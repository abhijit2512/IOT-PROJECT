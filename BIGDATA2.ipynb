{
  "nbformat": 4,
  "nbformat_minor": 0,
  "metadata": {
    "colab": {
      "provenance": [],
      "include_colab_link": true
    },
    "kernelspec": {
      "name": "python3",
      "display_name": "Python 3"
    },
    "language_info": {
      "name": "python"
    }
  },
  "cells": [
    {
      "cell_type": "markdown",
      "metadata": {
        "id": "view-in-github",
        "colab_type": "text"
      },
      "source": [
        "<a href=\"https://colab.research.google.com/github/abhijit2512/IOT-PROJECT/blob/main/BIGDATA2.ipynb\" target=\"_parent\"><img src=\"https://colab.research.google.com/assets/colab-badge.svg\" alt=\"Open In Colab\"/></a>"
      ]
    },
    {
      "cell_type": "code",
      "metadata": {
        "id": "oIPPtkVTHkw0"
      },
      "execution_count": null,
      "outputs": [],
      "source": [
        "# Colab compatibility setup (safe to run elsewhere)\n",
        "try:\n",
        "    from google.colab import drive\n",
        "    # drive.mount('/content/drive')  # Uncomment if using Google Drive data\n",
        "except Exception:\n",
        "    pass\n",
        "import os, sys\n",
        "print('Runtime OK. Python', sys.version.split()[0])\n"
      ]
    },
    {
      "cell_type": "markdown",
      "metadata": {
        "id": "view-in-github"
      },
      "source": [
        "<a href=\"https://colab.research.google.com/github/abhijit2512/IOT-PROJECT/blob/main/BIGDATA.ipynb\" target=\"_parent\"><img src=\"https://colab.research.google.com/assets/colab-badge.svg\" alt=\"Open In Colab\"/></a>"
      ]
    },
    {
      "cell_type": "code",
      "execution_count": null,
      "metadata": {
        "id": "ihcxpdFfOPPT",
        "colab": {
          "base_uri": "https://localhost:8080/"
        },
        "outputId": "6cb21a71-5bce-4628-faee-7ab624bcde16"
      },
      "outputs": [
        {
          "output_type": "stream",
          "name": "stdout",
          "text": [
            "Requirement already satisfied: openpyxl in /usr/local/lib/python3.11/dist-packages (3.1.5)\n",
            "Requirement already satisfied: et-xmlfile in /usr/local/lib/python3.11/dist-packages (from openpyxl) (2.0.0)\n"
          ]
        }
      ],
      "source": [
        "# Install openpyxl to read Excel if not already\n",
        "!pip install openpyxl\n",
        "\n",
        "# Import libraries\n",
        "import pandas as pd\n",
        "import matplotlib.pyplot as plt\n"
      ]
    },
    {
      "cell_type": "code",
      "source": [
        "# Load Excel files (update the filenames if needed)\n",
        "deaths = pd.read_excel(\"/content/Deaths by IMD 2001-2022 FINAL.xlsx\")\n",
        "imd_deaths = pd.read_excel(\"/content/IMD_Death Data_England_1993_2022.xlsx\")\n",
        "\n",
        "# Quick look at the first few rows\n",
        "print(\"Deaths file:\")\n",
        "display(deaths.head())\n",
        "\n",
        "print(\"IMD file:\")\n",
        "display(imd_deaths.head())\n"
      ],
      "metadata": {
        "id": "uxcvGTyZPRoi",
        "colab": {
          "base_uri": "https://localhost:8080/",
          "height": 433
        },
        "outputId": "783b5586-7d2c-4c0b-f279-1fd3265c0c27"
      },
      "execution_count": null,
      "outputs": [
        {
          "output_type": "stream",
          "name": "stdout",
          "text": [
            "Deaths file:\n"
          ]
        },
        {
          "output_type": "display_data",
          "data": {
            "text/plain": [
              "                              Link to contents sheet\n",
              "0  Deaths by sex, single year of age, underlying ...\n",
              "1                                          About ONS\n",
              "2  We are the executive office of the UK Statisti...\n",
              "3               Information about ONS mortality data\n",
              "4  Deaths occurring in England and Wales are regi..."
            ],
            "text/html": [
              "\n",
              "  <div id=\"df-249197f5-9fd0-43c5-9bc4-3e0246fba2d1\" class=\"colab-df-container\">\n",
              "    <div>\n",
              "<style scoped>\n",
              "    .dataframe tbody tr th:only-of-type {\n",
              "        vertical-align: middle;\n",
              "    }\n",
              "\n",
              "    .dataframe tbody tr th {\n",
              "        vertical-align: top;\n",
              "    }\n",
              "\n",
              "    .dataframe thead th {\n",
              "        text-align: right;\n",
              "    }\n",
              "</style>\n",
              "<table border=\"1\" class=\"dataframe\">\n",
              "  <thead>\n",
              "    <tr style=\"text-align: right;\">\n",
              "      <th></th>\n",
              "      <th>Link to contents sheet</th>\n",
              "    </tr>\n",
              "  </thead>\n",
              "  <tbody>\n",
              "    <tr>\n",
              "      <th>0</th>\n",
              "      <td>Deaths by sex, single year of age, underlying ...</td>\n",
              "    </tr>\n",
              "    <tr>\n",
              "      <th>1</th>\n",
              "      <td>About ONS</td>\n",
              "    </tr>\n",
              "    <tr>\n",
              "      <th>2</th>\n",
              "      <td>We are the executive office of the UK Statisti...</td>\n",
              "    </tr>\n",
              "    <tr>\n",
              "      <th>3</th>\n",
              "      <td>Information about ONS mortality data</td>\n",
              "    </tr>\n",
              "    <tr>\n",
              "      <th>4</th>\n",
              "      <td>Deaths occurring in England and Wales are regi...</td>\n",
              "    </tr>\n",
              "  </tbody>\n",
              "</table>\n",
              "</div>\n",
              "    <div class=\"colab-df-buttons\">\n",
              "\n",
              "  <div class=\"colab-df-container\">\n",
              "    <button class=\"colab-df-convert\" onclick=\"convertToInteractive('df-249197f5-9fd0-43c5-9bc4-3e0246fba2d1')\"\n",
              "            title=\"Convert this dataframe to an interactive table.\"\n",
              "            style=\"display:none;\">\n",
              "\n",
              "  <svg xmlns=\"http://www.w3.org/2000/svg\" height=\"24px\" viewBox=\"0 -960 960 960\">\n",
              "    <path d=\"M120-120v-720h720v720H120Zm60-500h600v-160H180v160Zm220 220h160v-160H400v160Zm0 220h160v-160H400v160ZM180-400h160v-160H180v160Zm440 0h160v-160H620v160ZM180-180h160v-160H180v160Zm440 0h160v-160H620v160Z\"/>\n",
              "  </svg>\n",
              "    </button>\n",
              "\n",
              "  <style>\n",
              "    .colab-df-container {\n",
              "      display:flex;\n",
              "      gap: 12px;\n",
              "    }\n",
              "\n",
              "    .colab-df-convert {\n",
              "      background-color: #E8F0FE;\n",
              "      border: none;\n",
              "      border-radius: 50%;\n",
              "      cursor: pointer;\n",
              "      display: none;\n",
              "      fill: #1967D2;\n",
              "      height: 32px;\n",
              "      padding: 0 0 0 0;\n",
              "      width: 32px;\n",
              "    }\n",
              "\n",
              "    .colab-df-convert:hover {\n",
              "      background-color: #E2EBFA;\n",
              "      box-shadow: 0px 1px 2px rgba(60, 64, 67, 0.3), 0px 1px 3px 1px rgba(60, 64, 67, 0.15);\n",
              "      fill: #174EA6;\n",
              "    }\n",
              "\n",
              "    .colab-df-buttons div {\n",
              "      margin-bottom: 4px;\n",
              "    }\n",
              "\n",
              "    [theme=dark] .colab-df-convert {\n",
              "      background-color: #3B4455;\n",
              "      fill: #D2E3FC;\n",
              "    }\n",
              "\n",
              "    [theme=dark] .colab-df-convert:hover {\n",
              "      background-color: #434B5C;\n",
              "      box-shadow: 0px 1px 3px 1px rgba(0, 0, 0, 0.15);\n",
              "      filter: drop-shadow(0px 1px 2px rgba(0, 0, 0, 0.3));\n",
              "      fill: #FFFFFF;\n",
              "    }\n",
              "  </style>\n",
              "\n",
              "    <script>\n",
              "      const buttonEl =\n",
              "        document.querySelector('#df-249197f5-9fd0-43c5-9bc4-3e0246fba2d1 button.colab-df-convert');\n",
              "      buttonEl.style.display =\n",
              "        google.colab.kernel.accessAllowed ? 'block' : 'none';\n",
              "\n",
              "      async function convertToInteractive(key) {\n",
              "        const element = document.querySelector('#df-249197f5-9fd0-43c5-9bc4-3e0246fba2d1');\n",
              "        const dataTable =\n",
              "          await google.colab.kernel.invokeFunction('convertToInteractive',\n",
              "                                                    [key], {});\n",
              "        if (!dataTable) return;\n",
              "\n",
              "        const docLinkHtml = 'Like what you see? Visit the ' +\n",
              "          '<a target=\"_blank\" href=https://colab.research.google.com/notebooks/data_table.ipynb>data table notebook</a>'\n",
              "          + ' to learn more about interactive tables.';\n",
              "        element.innerHTML = '';\n",
              "        dataTable['output_type'] = 'display_data';\n",
              "        await google.colab.output.renderOutput(dataTable, element);\n",
              "        const docLink = document.createElement('div');\n",
              "        docLink.innerHTML = docLinkHtml;\n",
              "        element.appendChild(docLink);\n",
              "      }\n",
              "    </script>\n",
              "  </div>\n",
              "\n",
              "\n",
              "    <div id=\"df-9663986c-881e-4f78-88fd-cf868582a50e\">\n",
              "      <button class=\"colab-df-quickchart\" onclick=\"quickchart('df-9663986c-881e-4f78-88fd-cf868582a50e')\"\n",
              "                title=\"Suggest charts\"\n",
              "                style=\"display:none;\">\n",
              "\n",
              "<svg xmlns=\"http://www.w3.org/2000/svg\" height=\"24px\"viewBox=\"0 0 24 24\"\n",
              "     width=\"24px\">\n",
              "    <g>\n",
              "        <path d=\"M19 3H5c-1.1 0-2 .9-2 2v14c0 1.1.9 2 2 2h14c1.1 0 2-.9 2-2V5c0-1.1-.9-2-2-2zM9 17H7v-7h2v7zm4 0h-2V7h2v10zm4 0h-2v-4h2v4z\"/>\n",
              "    </g>\n",
              "</svg>\n",
              "      </button>\n",
              "\n",
              "<style>\n",
              "  .colab-df-quickchart {\n",
              "      --bg-color: #E8F0FE;\n",
              "      --fill-color: #1967D2;\n",
              "      --hover-bg-color: #E2EBFA;\n",
              "      --hover-fill-color: #174EA6;\n",
              "      --disabled-fill-color: #AAA;\n",
              "      --disabled-bg-color: #DDD;\n",
              "  }\n",
              "\n",
              "  [theme=dark] .colab-df-quickchart {\n",
              "      --bg-color: #3B4455;\n",
              "      --fill-color: #D2E3FC;\n",
              "      --hover-bg-color: #434B5C;\n",
              "      --hover-fill-color: #FFFFFF;\n",
              "      --disabled-bg-color: #3B4455;\n",
              "      --disabled-fill-color: #666;\n",
              "  }\n",
              "\n",
              "  .colab-df-quickchart {\n",
              "    background-color: var(--bg-color);\n",
              "    border: none;\n",
              "    border-radius: 50%;\n",
              "    cursor: pointer;\n",
              "    display: none;\n",
              "    fill: var(--fill-color);\n",
              "    height: 32px;\n",
              "    padding: 0;\n",
              "    width: 32px;\n",
              "  }\n",
              "\n",
              "  .colab-df-quickchart:hover {\n",
              "    background-color: var(--hover-bg-color);\n",
              "    box-shadow: 0 1px 2px rgba(60, 64, 67, 0.3), 0 1px 3px 1px rgba(60, 64, 67, 0.15);\n",
              "    fill: var(--button-hover-fill-color);\n",
              "  }\n",
              "\n",
              "  .colab-df-quickchart-complete:disabled,\n",
              "  .colab-df-quickchart-complete:disabled:hover {\n",
              "    background-color: var(--disabled-bg-color);\n",
              "    fill: var(--disabled-fill-color);\n",
              "    box-shadow: none;\n",
              "  }\n",
              "\n",
              "  .colab-df-spinner {\n",
              "    border: 2px solid var(--fill-color);\n",
              "    border-color: transparent;\n",
              "    border-bottom-color: var(--fill-color);\n",
              "    animation:\n",
              "      spin 1s steps(1) infinite;\n",
              "  }\n",
              "\n",
              "  @keyframes spin {\n",
              "    0% {\n",
              "      border-color: transparent;\n",
              "      border-bottom-color: var(--fill-color);\n",
              "      border-left-color: var(--fill-color);\n",
              "    }\n",
              "    20% {\n",
              "      border-color: transparent;\n",
              "      border-left-color: var(--fill-color);\n",
              "      border-top-color: var(--fill-color);\n",
              "    }\n",
              "    30% {\n",
              "      border-color: transparent;\n",
              "      border-left-color: var(--fill-color);\n",
              "      border-top-color: var(--fill-color);\n",
              "      border-right-color: var(--fill-color);\n",
              "    }\n",
              "    40% {\n",
              "      border-color: transparent;\n",
              "      border-right-color: var(--fill-color);\n",
              "      border-top-color: var(--fill-color);\n",
              "    }\n",
              "    60% {\n",
              "      border-color: transparent;\n",
              "      border-right-color: var(--fill-color);\n",
              "    }\n",
              "    80% {\n",
              "      border-color: transparent;\n",
              "      border-right-color: var(--fill-color);\n",
              "      border-bottom-color: var(--fill-color);\n",
              "    }\n",
              "    90% {\n",
              "      border-color: transparent;\n",
              "      border-bottom-color: var(--fill-color);\n",
              "    }\n",
              "  }\n",
              "</style>\n",
              "\n",
              "      <script>\n",
              "        async function quickchart(key) {\n",
              "          const quickchartButtonEl =\n",
              "            document.querySelector('#' + key + ' button');\n",
              "          quickchartButtonEl.disabled = true;  // To prevent multiple clicks.\n",
              "          quickchartButtonEl.classList.add('colab-df-spinner');\n",
              "          try {\n",
              "            const charts = await google.colab.kernel.invokeFunction(\n",
              "                'suggestCharts', [key], {});\n",
              "          } catch (error) {\n",
              "            console.error('Error during call to suggestCharts:', error);\n",
              "          }\n",
              "          quickchartButtonEl.classList.remove('colab-df-spinner');\n",
              "          quickchartButtonEl.classList.add('colab-df-quickchart-complete');\n",
              "        }\n",
              "        (() => {\n",
              "          let quickchartButtonEl =\n",
              "            document.querySelector('#df-9663986c-881e-4f78-88fd-cf868582a50e button');\n",
              "          quickchartButtonEl.style.display =\n",
              "            google.colab.kernel.accessAllowed ? 'block' : 'none';\n",
              "        })();\n",
              "      </script>\n",
              "    </div>\n",
              "\n",
              "    </div>\n",
              "  </div>\n"
            ],
            "application/vnd.google.colaboratory.intrinsic+json": {
              "type": "dataframe",
              "summary": "{\n  \"name\": \"display(imd_deaths\",\n  \"rows\": 5,\n  \"fields\": [\n    {\n      \"column\": \"Link to contents sheet\",\n      \"properties\": {\n        \"dtype\": \"string\",\n        \"num_unique_values\": 5,\n        \"samples\": [\n          \"About ONS\",\n          \"Deaths occurring in England and Wales are registered on the General Register Office's Registration Online system (RON). Daily extracts of death registration records from RON are processed on our database systems. Bank Holidays could affect the number of registrations made within those weeks.\",\n          \"We are the executive office of the UK Statistics Authority, a non-ministerial department which reports directly to Parliament and the UK government\\u2019s single largest statistical producer. We compile information about the UK\\u2019s society and economy, and provide the evidence-base for policy and decision-making, the allocation of resources, and public accountability.\"\n        ],\n        \"semantic_type\": \"\",\n        \"description\": \"\"\n      }\n    }\n  ]\n}"
            }
          },
          "metadata": {}
        },
        {
          "output_type": "stream",
          "name": "stdout",
          "text": [
            "IMD file:\n"
          ]
        },
        {
          "output_type": "display_data",
          "data": {
            "text/plain": [
              "                              Link to contents sheet\n",
              "0  Death registrations by sex, five year age grou...\n",
              "1                                          About ONS\n",
              "2  We are the executive office of the UK Statisti...\n",
              "3               Information about ONS mortality data\n",
              "4  Deaths occurring in England and Wales are regi..."
            ],
            "text/html": [
              "\n",
              "  <div id=\"df-f3f9f0e4-fafe-456b-8718-ca432c6167fc\" class=\"colab-df-container\">\n",
              "    <div>\n",
              "<style scoped>\n",
              "    .dataframe tbody tr th:only-of-type {\n",
              "        vertical-align: middle;\n",
              "    }\n",
              "\n",
              "    .dataframe tbody tr th {\n",
              "        vertical-align: top;\n",
              "    }\n",
              "\n",
              "    .dataframe thead th {\n",
              "        text-align: right;\n",
              "    }\n",
              "</style>\n",
              "<table border=\"1\" class=\"dataframe\">\n",
              "  <thead>\n",
              "    <tr style=\"text-align: right;\">\n",
              "      <th></th>\n",
              "      <th>Link to contents sheet</th>\n",
              "    </tr>\n",
              "  </thead>\n",
              "  <tbody>\n",
              "    <tr>\n",
              "      <th>0</th>\n",
              "      <td>Death registrations by sex, five year age grou...</td>\n",
              "    </tr>\n",
              "    <tr>\n",
              "      <th>1</th>\n",
              "      <td>About ONS</td>\n",
              "    </tr>\n",
              "    <tr>\n",
              "      <th>2</th>\n",
              "      <td>We are the executive office of the UK Statisti...</td>\n",
              "    </tr>\n",
              "    <tr>\n",
              "      <th>3</th>\n",
              "      <td>Information about ONS mortality data</td>\n",
              "    </tr>\n",
              "    <tr>\n",
              "      <th>4</th>\n",
              "      <td>Deaths occurring in England and Wales are regi...</td>\n",
              "    </tr>\n",
              "  </tbody>\n",
              "</table>\n",
              "</div>\n",
              "    <div class=\"colab-df-buttons\">\n",
              "\n",
              "  <div class=\"colab-df-container\">\n",
              "    <button class=\"colab-df-convert\" onclick=\"convertToInteractive('df-f3f9f0e4-fafe-456b-8718-ca432c6167fc')\"\n",
              "            title=\"Convert this dataframe to an interactive table.\"\n",
              "            style=\"display:none;\">\n",
              "\n",
              "  <svg xmlns=\"http://www.w3.org/2000/svg\" height=\"24px\" viewBox=\"0 -960 960 960\">\n",
              "    <path d=\"M120-120v-720h720v720H120Zm60-500h600v-160H180v160Zm220 220h160v-160H400v160Zm0 220h160v-160H400v160ZM180-400h160v-160H180v160Zm440 0h160v-160H620v160ZM180-180h160v-160H180v160Zm440 0h160v-160H620v160Z\"/>\n",
              "  </svg>\n",
              "    </button>\n",
              "\n",
              "  <style>\n",
              "    .colab-df-container {\n",
              "      display:flex;\n",
              "      gap: 12px;\n",
              "    }\n",
              "\n",
              "    .colab-df-convert {\n",
              "      background-color: #E8F0FE;\n",
              "      border: none;\n",
              "      border-radius: 50%;\n",
              "      cursor: pointer;\n",
              "      display: none;\n",
              "      fill: #1967D2;\n",
              "      height: 32px;\n",
              "      padding: 0 0 0 0;\n",
              "      width: 32px;\n",
              "    }\n",
              "\n",
              "    .colab-df-convert:hover {\n",
              "      background-color: #E2EBFA;\n",
              "      box-shadow: 0px 1px 2px rgba(60, 64, 67, 0.3), 0px 1px 3px 1px rgba(60, 64, 67, 0.15);\n",
              "      fill: #174EA6;\n",
              "    }\n",
              "\n",
              "    .colab-df-buttons div {\n",
              "      margin-bottom: 4px;\n",
              "    }\n",
              "\n",
              "    [theme=dark] .colab-df-convert {\n",
              "      background-color: #3B4455;\n",
              "      fill: #D2E3FC;\n",
              "    }\n",
              "\n",
              "    [theme=dark] .colab-df-convert:hover {\n",
              "      background-color: #434B5C;\n",
              "      box-shadow: 0px 1px 3px 1px rgba(0, 0, 0, 0.15);\n",
              "      filter: drop-shadow(0px 1px 2px rgba(0, 0, 0, 0.3));\n",
              "      fill: #FFFFFF;\n",
              "    }\n",
              "  </style>\n",
              "\n",
              "    <script>\n",
              "      const buttonEl =\n",
              "        document.querySelector('#df-f3f9f0e4-fafe-456b-8718-ca432c6167fc button.colab-df-convert');\n",
              "      buttonEl.style.display =\n",
              "        google.colab.kernel.accessAllowed ? 'block' : 'none';\n",
              "\n",
              "      async function convertToInteractive(key) {\n",
              "        const element = document.querySelector('#df-f3f9f0e4-fafe-456b-8718-ca432c6167fc');\n",
              "        const dataTable =\n",
              "          await google.colab.kernel.invokeFunction('convertToInteractive',\n",
              "                                                    [key], {});\n",
              "        if (!dataTable) return;\n",
              "\n",
              "        const docLinkHtml = 'Like what you see? Visit the ' +\n",
              "          '<a target=\"_blank\" href=https://colab.research.google.com/notebooks/data_table.ipynb>data table notebook</a>'\n",
              "          + ' to learn more about interactive tables.';\n",
              "        element.innerHTML = '';\n",
              "        dataTable['output_type'] = 'display_data';\n",
              "        await google.colab.output.renderOutput(dataTable, element);\n",
              "        const docLink = document.createElement('div');\n",
              "        docLink.innerHTML = docLinkHtml;\n",
              "        element.appendChild(docLink);\n",
              "      }\n",
              "    </script>\n",
              "  </div>\n",
              "\n",
              "\n",
              "    <div id=\"df-aeb2358a-f6d8-4893-9639-368d83c09472\">\n",
              "      <button class=\"colab-df-quickchart\" onclick=\"quickchart('df-aeb2358a-f6d8-4893-9639-368d83c09472')\"\n",
              "                title=\"Suggest charts\"\n",
              "                style=\"display:none;\">\n",
              "\n",
              "<svg xmlns=\"http://www.w3.org/2000/svg\" height=\"24px\"viewBox=\"0 0 24 24\"\n",
              "     width=\"24px\">\n",
              "    <g>\n",
              "        <path d=\"M19 3H5c-1.1 0-2 .9-2 2v14c0 1.1.9 2 2 2h14c1.1 0 2-.9 2-2V5c0-1.1-.9-2-2-2zM9 17H7v-7h2v7zm4 0h-2V7h2v10zm4 0h-2v-4h2v4z\"/>\n",
              "    </g>\n",
              "</svg>\n",
              "      </button>\n",
              "\n",
              "<style>\n",
              "  .colab-df-quickchart {\n",
              "      --bg-color: #E8F0FE;\n",
              "      --fill-color: #1967D2;\n",
              "      --hover-bg-color: #E2EBFA;\n",
              "      --hover-fill-color: #174EA6;\n",
              "      --disabled-fill-color: #AAA;\n",
              "      --disabled-bg-color: #DDD;\n",
              "  }\n",
              "\n",
              "  [theme=dark] .colab-df-quickchart {\n",
              "      --bg-color: #3B4455;\n",
              "      --fill-color: #D2E3FC;\n",
              "      --hover-bg-color: #434B5C;\n",
              "      --hover-fill-color: #FFFFFF;\n",
              "      --disabled-bg-color: #3B4455;\n",
              "      --disabled-fill-color: #666;\n",
              "  }\n",
              "\n",
              "  .colab-df-quickchart {\n",
              "    background-color: var(--bg-color);\n",
              "    border: none;\n",
              "    border-radius: 50%;\n",
              "    cursor: pointer;\n",
              "    display: none;\n",
              "    fill: var(--fill-color);\n",
              "    height: 32px;\n",
              "    padding: 0;\n",
              "    width: 32px;\n",
              "  }\n",
              "\n",
              "  .colab-df-quickchart:hover {\n",
              "    background-color: var(--hover-bg-color);\n",
              "    box-shadow: 0 1px 2px rgba(60, 64, 67, 0.3), 0 1px 3px 1px rgba(60, 64, 67, 0.15);\n",
              "    fill: var(--button-hover-fill-color);\n",
              "  }\n",
              "\n",
              "  .colab-df-quickchart-complete:disabled,\n",
              "  .colab-df-quickchart-complete:disabled:hover {\n",
              "    background-color: var(--disabled-bg-color);\n",
              "    fill: var(--disabled-fill-color);\n",
              "    box-shadow: none;\n",
              "  }\n",
              "\n",
              "  .colab-df-spinner {\n",
              "    border: 2px solid var(--fill-color);\n",
              "    border-color: transparent;\n",
              "    border-bottom-color: var(--fill-color);\n",
              "    animation:\n",
              "      spin 1s steps(1) infinite;\n",
              "  }\n",
              "\n",
              "  @keyframes spin {\n",
              "    0% {\n",
              "      border-color: transparent;\n",
              "      border-bottom-color: var(--fill-color);\n",
              "      border-left-color: var(--fill-color);\n",
              "    }\n",
              "    20% {\n",
              "      border-color: transparent;\n",
              "      border-left-color: var(--fill-color);\n",
              "      border-top-color: var(--fill-color);\n",
              "    }\n",
              "    30% {\n",
              "      border-color: transparent;\n",
              "      border-left-color: var(--fill-color);\n",
              "      border-top-color: var(--fill-color);\n",
              "      border-right-color: var(--fill-color);\n",
              "    }\n",
              "    40% {\n",
              "      border-color: transparent;\n",
              "      border-right-color: var(--fill-color);\n",
              "      border-top-color: var(--fill-color);\n",
              "    }\n",
              "    60% {\n",
              "      border-color: transparent;\n",
              "      border-right-color: var(--fill-color);\n",
              "    }\n",
              "    80% {\n",
              "      border-color: transparent;\n",
              "      border-right-color: var(--fill-color);\n",
              "      border-bottom-color: var(--fill-color);\n",
              "    }\n",
              "    90% {\n",
              "      border-color: transparent;\n",
              "      border-bottom-color: var(--fill-color);\n",
              "    }\n",
              "  }\n",
              "</style>\n",
              "\n",
              "      <script>\n",
              "        async function quickchart(key) {\n",
              "          const quickchartButtonEl =\n",
              "            document.querySelector('#' + key + ' button');\n",
              "          quickchartButtonEl.disabled = true;  // To prevent multiple clicks.\n",
              "          quickchartButtonEl.classList.add('colab-df-spinner');\n",
              "          try {\n",
              "            const charts = await google.colab.kernel.invokeFunction(\n",
              "                'suggestCharts', [key], {});\n",
              "          } catch (error) {\n",
              "            console.error('Error during call to suggestCharts:', error);\n",
              "          }\n",
              "          quickchartButtonEl.classList.remove('colab-df-spinner');\n",
              "          quickchartButtonEl.classList.add('colab-df-quickchart-complete');\n",
              "        }\n",
              "        (() => {\n",
              "          let quickchartButtonEl =\n",
              "            document.querySelector('#df-aeb2358a-f6d8-4893-9639-368d83c09472 button');\n",
              "          quickchartButtonEl.style.display =\n",
              "            google.colab.kernel.accessAllowed ? 'block' : 'none';\n",
              "        })();\n",
              "      </script>\n",
              "    </div>\n",
              "\n",
              "    </div>\n",
              "  </div>\n"
            ],
            "application/vnd.google.colaboratory.intrinsic+json": {
              "type": "dataframe",
              "summary": "{\n  \"name\": \"display(imd_deaths\",\n  \"rows\": 5,\n  \"fields\": [\n    {\n      \"column\": \"Link to contents sheet\",\n      \"properties\": {\n        \"dtype\": \"string\",\n        \"num_unique_values\": 5,\n        \"samples\": [\n          \"About ONS\",\n          \"Deaths occurring in England and Wales are registered on the General Register Office's Registration Online system (RON). Daily extracts of death registration records from RON are processed on our database systems. Bank Holidays could affect the number of registrations made within those weeks.\",\n          \"We are the executive office of the UK Statistics Authority, a non-ministerial department which reports directly to Parliament and the UK government\\u2019s single largest statistical producer. We compile information about the UK\\u2019s society and economy, and provide the evidence-base for policy and decision-making, the allocation of resources, and public accountability.\"\n        ],\n        \"semantic_type\": \"\",\n        \"description\": \"\"\n      }\n    }\n  ]\n}"
            }
          },
          "metadata": {}
        }
      ]
    },
    {
      "cell_type": "code",
      "source": [
        "from google.colab import files\n",
        "\n",
        "# Upload files manually (you’ll get a “Choose File” button)\n",
        "uploaded = files.upload()\n"
      ],
      "metadata": {
        "colab": {
          "base_uri": "https://localhost:8080/",
          "height": 341
        },
        "id": "PDyj798TPgY6",
        "outputId": "a25fa2e6-6950-40ef-a6de-b06209e2a7d1"
      },
      "execution_count": null,
      "outputs": [
        {
          "data": {
            "text/html": [
              "\n",
              "     <input type=\"file\" id=\"files-1184dca1-4e7e-43b2-a441-0c52e3aa03c1\" name=\"files[]\" multiple disabled\n",
              "        style=\"border:none\" />\n",
              "     <output id=\"result-1184dca1-4e7e-43b2-a441-0c52e3aa03c1\">\n",
              "      Upload widget is only available when the cell has been executed in the\n",
              "      current browser session. Please rerun this cell to enable.\n",
              "      </output>\n",
              "      <script>// Copyright 2017 Google LLC\n",
              "//\n",
              "// Licensed under the Apache License, Version 2.0 (the \"License\");\n",
              "// you may not use this file except in compliance with the License.\n",
              "// You may obtain a copy of the License at\n",
              "//\n",
              "//      http://www.apache.org/licenses/LICENSE-2.0\n",
              "//\n",
              "// Unless required by applicable law or agreed to in writing, software\n",
              "// distributed under the License is distributed on an \"AS IS\" BASIS,\n",
              "// WITHOUT WARRANTIES OR CONDITIONS OF ANY KIND, either express or implied.\n",
              "// See the License for the specific language governing permissions and\n",
              "// limitations under the License.\n",
              "\n",
              "/**\n",
              " * @fileoverview Helpers for google.colab Python module.\n",
              " */\n",
              "(function(scope) {\n",
              "function span(text, styleAttributes = {}) {\n",
              "  const element = document.createElement('span');\n",
              "  element.textContent = text;\n",
              "  for (const key of Object.keys(styleAttributes)) {\n",
              "    element.style[key] = styleAttributes[key];\n",
              "  }\n",
              "  return element;\n",
              "}\n",
              "\n",
              "// Max number of bytes which will be uploaded at a time.\n",
              "const MAX_PAYLOAD_SIZE = 100 * 1024;\n",
              "\n",
              "function _uploadFiles(inputId, outputId) {\n",
              "  const steps = uploadFilesStep(inputId, outputId);\n",
              "  const outputElement = document.getElementById(outputId);\n",
              "  // Cache steps on the outputElement to make it available for the next call\n",
              "  // to uploadFilesContinue from Python.\n",
              "  outputElement.steps = steps;\n",
              "\n",
              "  return _uploadFilesContinue(outputId);\n",
              "}\n",
              "\n",
              "// This is roughly an async generator (not supported in the browser yet),\n",
              "// where there are multiple asynchronous steps and the Python side is going\n",
              "// to poll for completion of each step.\n",
              "// This uses a Promise to block the python side on completion of each step,\n",
              "// then passes the result of the previous step as the input to the next step.\n",
              "function _uploadFilesContinue(outputId) {\n",
              "  const outputElement = document.getElementById(outputId);\n",
              "  const steps = outputElement.steps;\n",
              "\n",
              "  const next = steps.next(outputElement.lastPromiseValue);\n",
              "  return Promise.resolve(next.value.promise).then((value) => {\n",
              "    // Cache the last promise value to make it available to the next\n",
              "    // step of the generator.\n",
              "    outputElement.lastPromiseValue = value;\n",
              "    return next.value.response;\n",
              "  });\n",
              "}\n",
              "\n",
              "/**\n",
              " * Generator function which is called between each async step of the upload\n",
              " * process.\n",
              " * @param {string} inputId Element ID of the input file picker element.\n",
              " * @param {string} outputId Element ID of the output display.\n",
              " * @return {!Iterable<!Object>} Iterable of next steps.\n",
              " */\n",
              "function* uploadFilesStep(inputId, outputId) {\n",
              "  const inputElement = document.getElementById(inputId);\n",
              "  inputElement.disabled = false;\n",
              "\n",
              "  const outputElement = document.getElementById(outputId);\n",
              "  outputElement.innerHTML = '';\n",
              "\n",
              "  const pickedPromise = new Promise((resolve) => {\n",
              "    inputElement.addEventListener('change', (e) => {\n",
              "      resolve(e.target.files);\n",
              "    });\n",
              "  });\n",
              "\n",
              "  const cancel = document.createElement('button');\n",
              "  inputElement.parentElement.appendChild(cancel);\n",
              "  cancel.textContent = 'Cancel upload';\n",
              "  const cancelPromise = new Promise((resolve) => {\n",
              "    cancel.onclick = () => {\n",
              "      resolve(null);\n",
              "    };\n",
              "  });\n",
              "\n",
              "  // Wait for the user to pick the files.\n",
              "  const files = yield {\n",
              "    promise: Promise.race([pickedPromise, cancelPromise]),\n",
              "    response: {\n",
              "      action: 'starting',\n",
              "    }\n",
              "  };\n",
              "\n",
              "  cancel.remove();\n",
              "\n",
              "  // Disable the input element since further picks are not allowed.\n",
              "  inputElement.disabled = true;\n",
              "\n",
              "  if (!files) {\n",
              "    return {\n",
              "      response: {\n",
              "        action: 'complete',\n",
              "      }\n",
              "    };\n",
              "  }\n",
              "\n",
              "  for (const file of files) {\n",
              "    const li = document.createElement('li');\n",
              "    li.append(span(file.name, {fontWeight: 'bold'}));\n",
              "    li.append(span(\n",
              "        `(${file.type || 'n/a'}) - ${file.size} bytes, ` +\n",
              "        `last modified: ${\n",
              "            file.lastModifiedDate ? file.lastModifiedDate.toLocaleDateString() :\n",
              "                                    'n/a'} - `));\n",
              "    const percent = span('0% done');\n",
              "    li.appendChild(percent);\n",
              "\n",
              "    outputElement.appendChild(li);\n",
              "\n",
              "    const fileDataPromise = new Promise((resolve) => {\n",
              "      const reader = new FileReader();\n",
              "      reader.onload = (e) => {\n",
              "        resolve(e.target.result);\n",
              "      };\n",
              "      reader.readAsArrayBuffer(file);\n",
              "    });\n",
              "    // Wait for the data to be ready.\n",
              "    let fileData = yield {\n",
              "      promise: fileDataPromise,\n",
              "      response: {\n",
              "        action: 'continue',\n",
              "      }\n",
              "    };\n",
              "\n",
              "    // Use a chunked sending to avoid message size limits. See b/62115660.\n",
              "    let position = 0;\n",
              "    do {\n",
              "      const length = Math.min(fileData.byteLength - position, MAX_PAYLOAD_SIZE);\n",
              "      const chunk = new Uint8Array(fileData, position, length);\n",
              "      position += length;\n",
              "\n",
              "      const base64 = btoa(String.fromCharCode.apply(null, chunk));\n",
              "      yield {\n",
              "        response: {\n",
              "          action: 'append',\n",
              "          file: file.name,\n",
              "          data: base64,\n",
              "        },\n",
              "      };\n",
              "\n",
              "      let percentDone = fileData.byteLength === 0 ?\n",
              "          100 :\n",
              "          Math.round((position / fileData.byteLength) * 100);\n",
              "      percent.textContent = `${percentDone}% done`;\n",
              "\n",
              "    } while (position < fileData.byteLength);\n",
              "  }\n",
              "\n",
              "  // All done.\n",
              "  yield {\n",
              "    response: {\n",
              "      action: 'complete',\n",
              "    }\n",
              "  };\n",
              "}\n",
              "\n",
              "scope.google = scope.google || {};\n",
              "scope.google.colab = scope.google.colab || {};\n",
              "scope.google.colab._files = {\n",
              "  _uploadFiles,\n",
              "  _uploadFilesContinue,\n",
              "};\n",
              "})(self);\n",
              "</script> "
            ],
            "text/plain": [
              "<IPython.core.display.HTML object>"
            ]
          },
          "metadata": {},
          "output_type": "display_data"
        },
        {
          "ename": "TypeError",
          "evalue": "'NoneType' object is not subscriptable",
          "output_type": "error",
          "traceback": [
            "\u001b[0;31m---------------------------------------------------------------------------\u001b[0m",
            "\u001b[0;31mTypeError\u001b[0m                                 Traceback (most recent call last)",
            "\u001b[0;32m/tmp/ipython-input-3656100202.py\u001b[0m in \u001b[0;36m<cell line: 0>\u001b[0;34m()\u001b[0m\n\u001b[1;32m      2\u001b[0m \u001b[0;34m\u001b[0m\u001b[0m\n\u001b[1;32m      3\u001b[0m \u001b[0;31m# Upload files manually (you’ll get a “Choose File” button)\u001b[0m\u001b[0;34m\u001b[0m\u001b[0;34m\u001b[0m\u001b[0m\n\u001b[0;32m----> 4\u001b[0;31m \u001b[0muploaded\u001b[0m \u001b[0;34m=\u001b[0m \u001b[0mfiles\u001b[0m\u001b[0;34m.\u001b[0m\u001b[0mupload\u001b[0m\u001b[0;34m(\u001b[0m\u001b[0;34m)\u001b[0m\u001b[0;34m\u001b[0m\u001b[0;34m\u001b[0m\u001b[0m\n\u001b[0m",
            "\u001b[0;32m/usr/local/lib/python3.11/dist-packages/google/colab/files.py\u001b[0m in \u001b[0;36mupload\u001b[0;34m(target_dir)\u001b[0m\n\u001b[1;32m     70\u001b[0m   \"\"\"\n\u001b[1;32m     71\u001b[0m \u001b[0;34m\u001b[0m\u001b[0m\n\u001b[0;32m---> 72\u001b[0;31m   \u001b[0muploaded_files\u001b[0m \u001b[0;34m=\u001b[0m \u001b[0m_upload_files\u001b[0m\u001b[0;34m(\u001b[0m\u001b[0mmultiple\u001b[0m\u001b[0;34m=\u001b[0m\u001b[0;32mTrue\u001b[0m\u001b[0;34m)\u001b[0m\u001b[0;34m\u001b[0m\u001b[0;34m\u001b[0m\u001b[0m\n\u001b[0m\u001b[1;32m     73\u001b[0m   \u001b[0;31m# Mapping from original filename to filename as saved locally.\u001b[0m\u001b[0;34m\u001b[0m\u001b[0;34m\u001b[0m\u001b[0m\n\u001b[1;32m     74\u001b[0m   \u001b[0mlocal_filenames\u001b[0m \u001b[0;34m=\u001b[0m \u001b[0mdict\u001b[0m\u001b[0;34m(\u001b[0m\u001b[0;34m)\u001b[0m\u001b[0;34m\u001b[0m\u001b[0;34m\u001b[0m\u001b[0m\n",
            "\u001b[0;32m/usr/local/lib/python3.11/dist-packages/google/colab/files.py\u001b[0m in \u001b[0;36m_upload_files\u001b[0;34m(multiple)\u001b[0m\n\u001b[1;32m    169\u001b[0m   \u001b[0mfiles\u001b[0m \u001b[0;34m=\u001b[0m \u001b[0m_collections\u001b[0m\u001b[0;34m.\u001b[0m\u001b[0mdefaultdict\u001b[0m\u001b[0;34m(\u001b[0m\u001b[0mbytes\u001b[0m\u001b[0;34m)\u001b[0m\u001b[0;34m\u001b[0m\u001b[0;34m\u001b[0m\u001b[0m\n\u001b[1;32m    170\u001b[0m \u001b[0;34m\u001b[0m\u001b[0m\n\u001b[0;32m--> 171\u001b[0;31m   \u001b[0;32mwhile\u001b[0m \u001b[0mresult\u001b[0m\u001b[0;34m[\u001b[0m\u001b[0;34m'action'\u001b[0m\u001b[0;34m]\u001b[0m \u001b[0;34m!=\u001b[0m \u001b[0;34m'complete'\u001b[0m\u001b[0;34m:\u001b[0m\u001b[0;34m\u001b[0m\u001b[0;34m\u001b[0m\u001b[0m\n\u001b[0m\u001b[1;32m    172\u001b[0m     result = _output.eval_js(\n\u001b[1;32m    173\u001b[0m         'google.colab._files._uploadFilesContinue(\"{output_id}\")'.format(\n",
            "\u001b[0;31mTypeError\u001b[0m: 'NoneType' object is not subscriptable"
          ]
        }
      ]
    },
    {
      "cell_type": "code",
      "source": [
        "# Load the uploaded files into pandas\n",
        "deaths = pd.read_excel(\"Deaths by IMD 2001-2022 FINAL.xlsx\")\n",
        "imd_deaths = pd.read_excel(\"IMD_Death Data_England_1993_2022.xlsx\")\n",
        "\n",
        "# Quick look at first few rows\n",
        "print(\"Deaths dataset:\")\n",
        "display(deaths.head())\n",
        "\n",
        "print(\"IMD dataset:\")\n",
        "display(imd_deaths.head())\n"
      ],
      "metadata": {
        "id": "0_YViXzbZFtG"
      },
      "execution_count": null,
      "outputs": []
    },
    {
      "cell_type": "code",
      "source": [
        "# Reshape the deaths dataset into long format\n",
        "dea_long = deaths.melt(\n",
        "    id_vars=[c for c in deaths.columns if c in [\"imd_decile\",\"icd10\",\"age\"]],\n",
        "    var_name=\"year\",\n",
        "    value_name=\"deaths\"\n",
        ")\n",
        "\n",
        "# Reshape the IMD dataset into long format\n",
        "imd_long = imd_deaths.melt(\n",
        "    id_vars=[c for c in imd_deaths.columns if c in [\"imd_decile\"]],\n",
        "    var_name=\"year\",\n",
        "    value_name=\"imd_value\"\n",
        ")\n",
        "\n",
        "# Quick preview\n",
        "print(\"Deaths reshaped:\")\n",
        "display(dea_long.head())\n",
        "\n",
        "print(\"IMD reshaped:\")\n",
        "display(imd_long.head())\n"
      ],
      "metadata": {
        "id": "HXHpzwlHZr8W"
      },
      "execution_count": null,
      "outputs": []
    },
    {
      "cell_type": "code",
      "source": [
        "# Reload Excel, skip the first rows that are just notes\n",
        "deaths = pd.read_excel(\"Deaths by IMD 2001-2022 FINAL.xlsx\", sheet_name=0, skiprows=5)\n",
        "imd_deaths = pd.read_excel(\"IMD_Death Data_England_1993_2022.xlsx\", sheet_name=0, skiprows=5)\n",
        "\n",
        "print(\"Deaths file:\")\n",
        "display(deaths.head())\n",
        "\n",
        "print(\"IMD file:\")\n",
        "display(imd_deaths.head())\n",
        "\n"
      ],
      "metadata": {
        "id": "FsgkuqMPZ2kF"
      },
      "execution_count": null,
      "outputs": []
    },
    {
      "cell_type": "code",
      "source": [
        "# Try skipping more rows (adjust the number until the top looks clean)\n",
        "deaths = pd.read_excel(\"Deaths by IMD 2001-2022 FINAL.xlsx\", skiprows=10)\n",
        "imd_deaths = pd.read_excel(\"IMD_Death Data_England_1993_2022.xlsx\", skiprows=10)\n",
        "\n",
        "print(\"Deaths file:\")\n",
        "display(deaths.head(10))\n",
        "\n",
        "print(\"IMD file:\")\n",
        "display(imd_deaths.head(10))\n"
      ],
      "metadata": {
        "id": "N2w_M_FFaSi-"
      },
      "execution_count": null,
      "outputs": []
    },
    {
      "cell_type": "code",
      "source": [
        "import pandas as pd\n",
        "import re\n",
        "\n",
        "def read_table_auto(path, sheet_name=0, search_years=range(1990, 2030)):\n",
        "    # peek first 60 rows to find the true header row\n",
        "    tmp = pd.read_excel(path, sheet_name=sheet_name, header=None, nrows=60, engine=\"openpyxl\")\n",
        "    header_row = None\n",
        "\n",
        "    # helper: a row is header if it has 'imd' or 'decile' or any year like 2001…2022\n",
        "    year_re = re.compile(r'^(19|20)\\d{2}$')\n",
        "    for i in range(len(tmp)):\n",
        "        row_vals = tmp.loc[i].astype(str).str.strip().str.lower()\n",
        "        has_imd = row_vals.str.contains(r'\\bimd\\b|\\bdecile\\b').any()\n",
        "        has_year = row_vals.isin([str(y) for y in search_years]).any()\n",
        "        if has_imd or has_year:\n",
        "            header_row = i\n",
        "            break\n",
        "\n",
        "    if header_row is None:\n",
        "        raise ValueError(\"Could not find a header row—open the file and tell me which row number has the column names.\")\n",
        "\n",
        "    # now read the sheet using the detected header row\n",
        "    df = pd.read_excel(path, sheet_name=sheet_name, header=header_row, engine=\"openpyxl\")\n",
        "    # drop empty columns\n",
        "    df = df.dropna(axis=1, how=\"all\")\n",
        "    # standardise column names\n",
        "    df.columns = [str(c).strip().lower().replace(\" \", \"_\") for c in df.columns]\n",
        "    return df, header_row\n",
        "\n",
        "# ---- use it on your two files ----\n",
        "deaths, hdr_deaths = read_table_auto(\"Deaths by IMD 2001-2022 FINAL.xlsx\")\n",
        "imd_deaths, hdr_imd   = read_table_auto(\"IMD_Death Data_England_1993_2022.xlsx\")\n",
        "\n",
        "print(\"Header row (deaths):\", hdr_deaths)\n",
        "display(deaths.head(10))\n",
        "print(\"Header row (imd):\", hdr_imd)\n",
        "display(imd_deaths.head(10))\n"
      ],
      "metadata": {
        "id": "tIA4FFwQbzIG"
      },
      "execution_count": null,
      "outputs": []
    },
    {
      "cell_type": "code",
      "source": [
        "import pandas as pd\n",
        "import openpyxl\n",
        "\n",
        "with pd.ExcelFile(\"Deaths by IMD 2001-2022 FINAL.xlsx\") as xls:\n",
        "    print(\"DEATHS sheets:\", xls.sheet_names)\n",
        "with pd.ExcelFile(\"IMD_Death Data_England_1993_2022.xlsx\") as xls:\n",
        "    print(\"IMD sheets:\", xls.sheet_names)\n"
      ],
      "metadata": {
        "id": "guT14fK5c0Zw"
      },
      "execution_count": null,
      "outputs": []
    },
    {
      "cell_type": "code",
      "source": [
        "import pandas as pd\n",
        "import re\n",
        "\n",
        "def load_imd_sheet(path, sheet_name=\"IMD\"):\n",
        "    # peek first 50 rows to find the row that looks like real headers\n",
        "    peek = pd.read_excel(path, sheet_name=sheet_name, header=None, nrows=50, engine=\"openpyxl\")\n",
        "    header_row = None\n",
        "    year_pat = re.compile(r'^(19|20)\\d{2}$')\n",
        "\n",
        "    for i in range(len(peek)):\n",
        "        row = peek.loc[i].astype(str).str.strip()\n",
        "        low = row.str.lower()\n",
        "        has_imd = low.str.contains(r'\\bimd\\b|\\bdecile\\b').any()\n",
        "        has_year = low.isin([str(y) for y in range(1990,2030)]).any() or row.apply(lambda x: bool(year_pat.match(x))).any()\n",
        "        if has_imd or has_year:\n",
        "            header_row = i\n",
        "            break\n",
        "\n",
        "    if header_row is None:\n",
        "        raise ValueError(\"Couldn't find header row—open sheet and tell me which row has column names.\")\n",
        "\n",
        "    df = pd.read_excel(path, sheet_name=sheet_name, header=header_row, engine=\"openpyxl\")\n",
        "    df = df.dropna(axis=1, how=\"all\")\n",
        "    df.columns = [str(c).strip().lower().replace(\" \", \"_\") for c in df.columns]\n",
        "    return df, header_row\n",
        "\n",
        "# Use it on your two files\n",
        "deaths, hdr_deaths = load_imd_sheet(\"Deaths by IMD 2001-2022 FINAL.xlsx\", \"IMD\")\n",
        "imd_deaths, hdr_imd = load_imd_sheet(\"IMD_Death Data_England_1993_2022.xlsx\", \"IMD\")\n",
        "\n",
        "print(\"Header row used (DEATHS):\", hdr_deaths)\n",
        "display(deaths.head(5))\n",
        "print(\"Header row used (IMD):\", hdr_imd)\n",
        "display(imd_deaths.head(5))\n"
      ],
      "metadata": {
        "id": "w9n23vWEeZeb"
      },
      "execution_count": null,
      "outputs": []
    },
    {
      "cell_type": "code",
      "source": [
        "import pandas as pd, re\n",
        "\n",
        "def try_load(path, sheet_name):\n",
        "    # scan more rows because notes can be long\n",
        "    peek = pd.read_excel(path, sheet_name=sheet_name, header=None, nrows=200, engine=\"openpyxl\")\n",
        "    header_row = None\n",
        "    year_pat = re.compile(r'^(19|20)\\d{2}$')\n",
        "    for i in range(len(peek)):\n",
        "        row = peek.loc[i].astype(str).str.strip()\n",
        "        low = row.str.lower()\n",
        "        has_imd = low.str.contains(r'index of multiple deprivation|^imd$|imd\\b|decile').any()\n",
        "        has_year = low.isin([str(y) for y in range(1990,2031)]).any() or row.apply(lambda x: bool(year_pat.match(x))).any()\n",
        "        # a header row usually has both labels like imd/decile and at least one year\n",
        "        if has_year or has_imd:\n",
        "            header_row = i\n",
        "            break\n",
        "    if header_row is None:\n",
        "        return None, None, None\n",
        "    df = pd.read_excel(path, sheet_name=sheet_name, header=header_row, engine=\"openpyxl\")\n",
        "    df = df.dropna(axis=1, how=\"all\")\n",
        "    # standardise col names for inspection\n",
        "    cols_raw = list(df.columns)\n",
        "    df.columns = [str(c).strip().lower().replace(\" \", \"_\") for c in df.columns]\n",
        "    return df, header_row, cols_raw\n",
        "\n",
        "def scan_numbered_sheets(path, label):\n",
        "    with pd.ExcelFile(path) as xls:\n",
        "        cand = [s for s in xls.sheet_names if s.strip().isdigit()]  # only \"1\",\"2\",\"3\",...\n",
        "    print(f\"\\n{label}: numbered sheets found -> {cand}\\n\")\n",
        "    results = []\n",
        "    for s in cand:\n",
        "        df, hdr, cols_raw = try_load(path, s)\n",
        "        if df is None:\n",
        "            print(f\"Sheet {s}: could not find header within first 200 rows — skipping.\")\n",
        "            continue\n",
        "        # look for any year-like columns after cleaning\n",
        "        year_cols = [c for c in df.columns if re.fullmatch(r'(19|20)\\d{2}', c)]\n",
        "        has_imd_col = any('imd' in c or 'decile' in c for c in df.columns)\n",
        "        print(f\"Sheet {s}: header row {hdr}; imd/decile col? {has_imd_col}; #year cols: {len(year_cols)}\")\n",
        "        print(\"First 5 column names:\", df.columns[:5].tolist())\n",
        "        display(df.head(5))\n",
        "        results.append((s, hdr, df.columns.tolist()))\n",
        "    return results\n",
        "\n",
        "# ---- scan both workbooks ----\n",
        "res_deaths = scan_numbered_sheets(\"Deaths by IMD 2001-2022 FINAL.xlsx\", \"DEATHS file\")\n",
        "res_imd    = scan_numbered_sheets(\"IMD_Death Data_England_1993_2022.xlsx\", \"IMD file\")\n"
      ],
      "metadata": {
        "id": "bO19ZHL3ewHT"
      },
      "execution_count": null,
      "outputs": []
    },
    {
      "cell_type": "code",
      "source": [
        "import pandas as pd\n",
        "\n",
        "# ------------------------------\n",
        "# 1. Helper function to load Excel sheet correctly\n",
        "# ------------------------------\n",
        "def load_clean_excel(path, sheet_name, header_row, skiprows=None):\n",
        "    \"\"\"\n",
        "    path: file path\n",
        "    sheet_name: name of sheet to read\n",
        "    header_row: which row should be treated as column headers\n",
        "    skiprows: optional extra rows to skip before/after headers\n",
        "    \"\"\"\n",
        "    df = pd.read_excel(\n",
        "        path,\n",
        "        sheet_name=sheet_name,\n",
        "        header=header_row,\n",
        "        skiprows=skiprows\n",
        "    )\n",
        "    # Drop completely empty rows/cols\n",
        "    df = df.dropna(axis=0, how=\"all\")\n",
        "    df = df.dropna(axis=1, how=\"all\")\n",
        "\n",
        "    # Reset index\n",
        "    df = df.reset_index(drop=True)\n",
        "\n",
        "    # Clean column names\n",
        "    df.columns = [str(c).strip().replace(\"\\n\", \"_\").replace(\" \", \"_\") for c in df.columns]\n",
        "\n",
        "    return df\n",
        "\n",
        "# ------------------------------\n",
        "# 2. Load your files with correct header row\n",
        "# ------------------------------\n",
        "# From your screenshot:\n",
        "# For DEATHS sheet, actual headers start at row 2 (zero-indexed in Excel → pandas header=2)\n",
        "# For IMD sheet, actual headers start at row 1 (pandas header=1)\n",
        "\n",
        "deaths_df = load_clean_excel(\"Deaths by IMD 2001-2022 FINAL.xlsx\", \"IMD\", header_row=2)\n",
        "imd_df = load_clean_excel(\"IMD Death Data England 1993_2022.xlsx\", \"IMD\", header_row=1)\n",
        "\n",
        "# ------------------------------\n",
        "# 3. Inspect cleaned data\n",
        "# ------------------------------\n",
        "print(\"Deaths dataset:\")\n",
        "print(deaths_df.head(10))\n",
        "\n",
        "print(\"\\nIMD dataset:\")\n",
        "print(imd_df.head(10))\n",
        "\n"
      ],
      "metadata": {
        "id": "7PG-JKlvg6jV"
      },
      "execution_count": null,
      "outputs": []
    },
    {
      "cell_type": "code",
      "source": [
        "import os, glob\n",
        "print(os.listdir(\"/content\"))\n",
        "\n"
      ],
      "metadata": {
        "id": "8jm99rS7hLXV"
      },
      "execution_count": null,
      "outputs": []
    },
    {
      "cell_type": "code",
      "source": [
        "import glob\n",
        "\n",
        "# Try exact names first\n",
        "DEATHS_PATH = \"Deaths by IMD 2001-2022 FINAL.xlsx\"\n",
        "IMD_PATH    = \"IMD_Death Data_England_1993_2022.xlsx\"\n",
        "\n",
        "# Fallback: if a file isn't found, try a pattern match\n",
        "if not glob.glob(DEATHS_PATH):\n",
        "    DEATHS_PATH = glob.glob(\"*Deaths*IMD*2001*2022*.*\")[0]\n",
        "if not glob.glob(IMD_PATH):\n",
        "    IMD_PATH = glob.glob(\"IMD*Death*England*1993*2022*.*\")[0]\n",
        "\n",
        "DEATHS_PATH, IMD_PATH\n"
      ],
      "metadata": {
        "id": "TYCS1rJ6hQB6"
      },
      "execution_count": null,
      "outputs": []
    },
    {
      "cell_type": "code",
      "source": [
        "import pandas as pd\n",
        "\n",
        "def load_clean_excel(path, sheet_name, header_row, skiprows=None):\n",
        "    df = pd.read_excel(path, sheet_name=sheet_name, header=header_row, skiprows=skiprows, engine=\"openpyxl\")\n",
        "    df = df.dropna(axis=0, how=\"all\").dropna(axis=1, how=\"all\").reset_index(drop=True)\n",
        "    df.columns = [str(c).strip().replace(\"\\n\",\" \").replace(\"  \",\" \").replace(\" \",\"_\").lower() for c in df.columns]\n",
        "    return df\n",
        "\n",
        "# From your earlier preview, these header rows worked as a starting point:\n",
        "deaths_df = load_clean_excel(DEATHS_PATH, sheet_name=\"IMD\", header_row=2)\n",
        "imd_df    = load_clean_excel(IMD_PATH,    sheet_name=\"IMD\", header_row=1)\n",
        "\n",
        "display(deaths_df.head(10))\n",
        "display(imd_df.head(10))\n"
      ],
      "metadata": {
        "id": "u7XJMYSKhTV6"
      },
      "execution_count": null,
      "outputs": []
    },
    {
      "cell_type": "code",
      "source": [
        "import pandas as pd\n",
        "import re\n",
        "\n",
        "DEATHS_PATH = \"Deaths by IMD 2001-2022 FINAL.xlsx\"\n",
        "IMD_PATH    = \"IMD_Death Data_England_1993_2022.xlsx\"\n",
        "\n",
        "# We’ll use the numbered sheets (they usually hold the tables)\n",
        "SHEET_DEATHS = \"1\"\n",
        "SHEET_IMD    = \"1\"   # if this doesn’t work, try \"2\", \"3\", ... later\n",
        "\n",
        "def find_header_row(path, sheet):\n",
        "    # scan first 200 rows to detect the real header row\n",
        "    peek = pd.read_excel(path, sheet_name=sheet, header=None, nrows=200, engine=\"openpyxl\")\n",
        "    year_pat = re.compile(r'^(19|20)\\d{2}$')\n",
        "    for i in range(len(peek)):\n",
        "        row = peek.loc[i].astype(str).str.strip()\n",
        "        low = row.str.lower()\n",
        "        # signals of a header row\n",
        "        has_imd = low.str.contains(r'index of multiple deprivation|^imd$|imd\\b|decile').any()\n",
        "        has_year = row.apply(lambda x: bool(year_pat.match(str(x)))).any()\n",
        "        many_years_next = False\n",
        "        if i+1 < len(peek):\n",
        "            nextrow = peek.loc[i+1].astype(str).str.strip()\n",
        "            many_years_next = sum(nextrow.apply(lambda x: bool(year_pat.match(str(x))))) >= 5\n",
        "        if has_imd or has_year or many_years_next:\n",
        "            return i\n",
        "    return None\n",
        "\n",
        "hdr_deaths = find_header_row(DEATHS_PATH, SHEET_DEATHS)\n",
        "hdr_imd    = find_header_row(IMD_PATH,    SHEET_IMD)\n",
        "\n",
        "print(\"Detected header rows → deaths:\", hdr_deaths, \"  imd:\", hdr_imd)\n",
        "\n",
        "# Load using the detected header rows\n",
        "deaths_df = pd.read_excel(DEATHS_PATH, sheet_name=SHEET_DEATHS, header=hdr_deaths, engine=\"openpyxl\")\n",
        "imd_df    = pd.read_excel(IMD_PATH,    sheet_name=SHEET_IMD,    header=hdr_imd,    engine=\"openpyxl\")\n",
        "\n",
        "# Drop empty cols/rows and tidy names\n",
        "deaths_df = deaths_df.dropna(axis=1, how=\"all\").dropna(axis=0, how=\"all\")\n",
        "imd_df    = imd_df.dropna(axis=1, how=\"all\").dropna(axis=0, how=\"all\")\n",
        "deaths_df.columns = [str(c).strip().lower().replace(\"\\n\",\" \").replace(\"  \",\" \").replace(\" \",\"_\") for c in deaths_df.columns]\n",
        "imd_df.columns    = [str(c).strip().lower().replace(\"\\n\",\" \").replace(\"  \",\" \").replace(\" \",\"_\") for c in imd_df.columns]\n",
        "\n",
        "print(\"Deaths columns (first 12):\", list(deaths_df.columns)[:12])\n",
        "print(\"IMD columns (first 12):\", list(imd_df.columns)[:12])\n",
        "display(deaths_df.head(5))\n",
        "display(imd_df.head(5))\n"
      ],
      "metadata": {
        "id": "eunlXtfshol8"
      },
      "execution_count": null,
      "outputs": []
    },
    {
      "cell_type": "code",
      "source": [
        "import pandas as pd\n",
        "\n",
        "# Load deaths file (2001–2022), skipping metadata\n",
        "deaths_df = pd.read_excel(\n",
        "    \"Deaths by IMD 2001-2022 FINAL.xlsx\",\n",
        "    sheet_name=\"IMD\",       # make sure it's the correct sheet\n",
        "    header=4                # skips first 4 rows, row 5 becomes header\n",
        ")\n",
        "\n",
        "# Load IMD file (1993–2022), skipping metadata\n",
        "imd_df = pd.read_excel(\n",
        "    \"IMD Death Data England 1993_2022.xlsx\",\n",
        "    sheet_name=\"IMD\",       # make sure it's the correct sheet\n",
        "    header=4                # adjust if needed\n",
        ")\n",
        "\n",
        "print(deaths_df.head())\n",
        "print(imd_df.head())\n"
      ],
      "metadata": {
        "id": "RDKvdEUQijXA"
      },
      "execution_count": null,
      "outputs": []
    },
    {
      "cell_type": "code",
      "source": [
        "import pandas as pd\n",
        "\n",
        "# ================================\n",
        "# 1. Upload files from your computer\n",
        "# ================================\n",
        "from google.colab import files\n",
        "\n",
        "uploaded = files.upload()  # Choose your Excel files when prompted\n",
        "\n",
        "# Example: If you upload \"Deaths by IMD 2001-2022 FINAL.xlsx\" and \"IMD Data England 1993-2022.xlsx\"\n",
        "deaths_file = \"Deaths by IMD 2001-2022 FINAL.xlsx\"\n",
        "imd_file = \"IMD Data England 1993-2022.xlsx\"\n",
        "\n",
        "# ================================\n",
        "# 2. Load DEATHS dataset (skip metadata rows)\n",
        "# ================================\n",
        "deaths = pd.read_excel(\n",
        "    deaths_file,\n",
        "    sheet_name=\"IMD\",    # ✅ adjust sheet name if different\n",
        "    skiprows=4           # ✅ skips metadata rows above the table\n",
        ")\n",
        "\n",
        "# ================================\n",
        "# 3. Load IMD dataset (skip metadata rows)\n",
        "# ================================\n",
        "imd = pd.read_excel(\n",
        "    imd_file,\n",
        "    sheet_name=\"IMD decile\",  # ✅ adjust sheet name if different\n",
        "    skiprows=4\n",
        ")\n",
        "\n",
        "# ================================\n",
        "# 4. Quick inspection\n",
        "# ================================\n",
        "print(\"Deaths first rows:\\n\", deaths.head(10))\n",
        "print(\"\\nIMD first rows:\\n\", imd.head(10))\n",
        "\n",
        "# ================================\n",
        "# 5. Clean column names\n",
        "# ================================\n",
        "deaths.columns = deaths.columns.str.strip().str.lower().str.replace(\" \", \"_\")\n",
        "imd.columns = imd.columns.str.strip().str.lower().str.replace(\" \", \"_\")\n",
        "\n",
        "# ================================\n",
        "# 6. Reshape datasets (long format)\n",
        "# ================================\n",
        "# Reshape DEATHS (year vs value)\n",
        "deaths_long = deaths.melt(\n",
        "    id_vars=[deaths.columns[0]],     # usually \"IMD decile\" or \"year\"\n",
        "    var_name=\"year\",\n",
        "    value_name=\"deaths\"\n",
        ")\n",
        "\n",
        "# Reshape IMD (year vs value)\n",
        "imd_long = imd.melt(\n",
        "    id_vars=[imd.columns[0]],        # usually \"IMD decile\" or \"year\"\n",
        "    var_name=\"year\",\n",
        "    value_name=\"imd_value\"\n",
        ")\n",
        "\n",
        "# ================================\n",
        "# 7. Merge datasets\n",
        "# ================================\n",
        "merged = pd.merge(\n",
        "    deaths_long,\n",
        "    imd_long,\n",
        "    on=[\"year\"],      # join by year\n",
        "    how=\"inner\"       # only keep years present in both\n",
        ")\n",
        "\n",
        "# ================================\n",
        "# 8. Save cleaned dataset\n",
        "# ================================\n",
        "merged.to_csv(\"cleaned_dataset.csv\", index=False)\n",
        "print(\"✅ Clean dataset saved as 'cleaned_dataset.csv'\")\n",
        "print(merged.head(20))\n"
      ],
      "metadata": {
        "id": "MqjQMbc5j4Hq"
      },
      "execution_count": null,
      "outputs": []
    },
    {
      "cell_type": "code",
      "metadata": {
        "id": "c0fa5b90"
      },
      "source": [
        "print(\"Deaths columns:\", deaths_df.columns.tolist())\n",
        "print(\"IMD columns:\", imd_df.columns.tolist())"
      ],
      "execution_count": null,
      "outputs": []
    },
    {
      "cell_type": "markdown",
      "source": [],
      "metadata": {
        "id": "83XuJqJVty4d"
      }
    },
    {
      "cell_type": "code",
      "source": [
        "import pandas as pd\n",
        "from google.colab import files\n",
        "\n",
        "# Upload your Excel files from your computer\n",
        "uploaded = files.upload()\n",
        "\n",
        "# See the exact filenames Colab received (copy them exactly later)\n",
        "list(uploaded.keys())\n"
      ],
      "metadata": {
        "id": "7HDFA-WruODn",
        "colab": {
          "base_uri": "https://localhost:8080/",
          "height": 141
        },
        "outputId": "aa8457cd-0fea-41e7-a4a8-7f073dcf6cf8"
      },
      "execution_count": null,
      "outputs": [
        {
          "output_type": "display_data",
          "data": {
            "text/plain": [
              "<IPython.core.display.HTML object>"
            ],
            "text/html": [
              "\n",
              "     <input type=\"file\" id=\"files-26a6f5d7-9269-4fc6-8176-9a35353fdab3\" name=\"files[]\" multiple disabled\n",
              "        style=\"border:none\" />\n",
              "     <output id=\"result-26a6f5d7-9269-4fc6-8176-9a35353fdab3\">\n",
              "      Upload widget is only available when the cell has been executed in the\n",
              "      current browser session. Please rerun this cell to enable.\n",
              "      </output>\n",
              "      <script>// Copyright 2017 Google LLC\n",
              "//\n",
              "// Licensed under the Apache License, Version 2.0 (the \"License\");\n",
              "// you may not use this file except in compliance with the License.\n",
              "// You may obtain a copy of the License at\n",
              "//\n",
              "//      http://www.apache.org/licenses/LICENSE-2.0\n",
              "//\n",
              "// Unless required by applicable law or agreed to in writing, software\n",
              "// distributed under the License is distributed on an \"AS IS\" BASIS,\n",
              "// WITHOUT WARRANTIES OR CONDITIONS OF ANY KIND, either express or implied.\n",
              "// See the License for the specific language governing permissions and\n",
              "// limitations under the License.\n",
              "\n",
              "/**\n",
              " * @fileoverview Helpers for google.colab Python module.\n",
              " */\n",
              "(function(scope) {\n",
              "function span(text, styleAttributes = {}) {\n",
              "  const element = document.createElement('span');\n",
              "  element.textContent = text;\n",
              "  for (const key of Object.keys(styleAttributes)) {\n",
              "    element.style[key] = styleAttributes[key];\n",
              "  }\n",
              "  return element;\n",
              "}\n",
              "\n",
              "// Max number of bytes which will be uploaded at a time.\n",
              "const MAX_PAYLOAD_SIZE = 100 * 1024;\n",
              "\n",
              "function _uploadFiles(inputId, outputId) {\n",
              "  const steps = uploadFilesStep(inputId, outputId);\n",
              "  const outputElement = document.getElementById(outputId);\n",
              "  // Cache steps on the outputElement to make it available for the next call\n",
              "  // to uploadFilesContinue from Python.\n",
              "  outputElement.steps = steps;\n",
              "\n",
              "  return _uploadFilesContinue(outputId);\n",
              "}\n",
              "\n",
              "// This is roughly an async generator (not supported in the browser yet),\n",
              "// where there are multiple asynchronous steps and the Python side is going\n",
              "// to poll for completion of each step.\n",
              "// This uses a Promise to block the python side on completion of each step,\n",
              "// then passes the result of the previous step as the input to the next step.\n",
              "function _uploadFilesContinue(outputId) {\n",
              "  const outputElement = document.getElementById(outputId);\n",
              "  const steps = outputElement.steps;\n",
              "\n",
              "  const next = steps.next(outputElement.lastPromiseValue);\n",
              "  return Promise.resolve(next.value.promise).then((value) => {\n",
              "    // Cache the last promise value to make it available to the next\n",
              "    // step of the generator.\n",
              "    outputElement.lastPromiseValue = value;\n",
              "    return next.value.response;\n",
              "  });\n",
              "}\n",
              "\n",
              "/**\n",
              " * Generator function which is called between each async step of the upload\n",
              " * process.\n",
              " * @param {string} inputId Element ID of the input file picker element.\n",
              " * @param {string} outputId Element ID of the output display.\n",
              " * @return {!Iterable<!Object>} Iterable of next steps.\n",
              " */\n",
              "function* uploadFilesStep(inputId, outputId) {\n",
              "  const inputElement = document.getElementById(inputId);\n",
              "  inputElement.disabled = false;\n",
              "\n",
              "  const outputElement = document.getElementById(outputId);\n",
              "  outputElement.innerHTML = '';\n",
              "\n",
              "  const pickedPromise = new Promise((resolve) => {\n",
              "    inputElement.addEventListener('change', (e) => {\n",
              "      resolve(e.target.files);\n",
              "    });\n",
              "  });\n",
              "\n",
              "  const cancel = document.createElement('button');\n",
              "  inputElement.parentElement.appendChild(cancel);\n",
              "  cancel.textContent = 'Cancel upload';\n",
              "  const cancelPromise = new Promise((resolve) => {\n",
              "    cancel.onclick = () => {\n",
              "      resolve(null);\n",
              "    };\n",
              "  });\n",
              "\n",
              "  // Wait for the user to pick the files.\n",
              "  const files = yield {\n",
              "    promise: Promise.race([pickedPromise, cancelPromise]),\n",
              "    response: {\n",
              "      action: 'starting',\n",
              "    }\n",
              "  };\n",
              "\n",
              "  cancel.remove();\n",
              "\n",
              "  // Disable the input element since further picks are not allowed.\n",
              "  inputElement.disabled = true;\n",
              "\n",
              "  if (!files) {\n",
              "    return {\n",
              "      response: {\n",
              "        action: 'complete',\n",
              "      }\n",
              "    };\n",
              "  }\n",
              "\n",
              "  for (const file of files) {\n",
              "    const li = document.createElement('li');\n",
              "    li.append(span(file.name, {fontWeight: 'bold'}));\n",
              "    li.append(span(\n",
              "        `(${file.type || 'n/a'}) - ${file.size} bytes, ` +\n",
              "        `last modified: ${\n",
              "            file.lastModifiedDate ? file.lastModifiedDate.toLocaleDateString() :\n",
              "                                    'n/a'} - `));\n",
              "    const percent = span('0% done');\n",
              "    li.appendChild(percent);\n",
              "\n",
              "    outputElement.appendChild(li);\n",
              "\n",
              "    const fileDataPromise = new Promise((resolve) => {\n",
              "      const reader = new FileReader();\n",
              "      reader.onload = (e) => {\n",
              "        resolve(e.target.result);\n",
              "      };\n",
              "      reader.readAsArrayBuffer(file);\n",
              "    });\n",
              "    // Wait for the data to be ready.\n",
              "    let fileData = yield {\n",
              "      promise: fileDataPromise,\n",
              "      response: {\n",
              "        action: 'continue',\n",
              "      }\n",
              "    };\n",
              "\n",
              "    // Use a chunked sending to avoid message size limits. See b/62115660.\n",
              "    let position = 0;\n",
              "    do {\n",
              "      const length = Math.min(fileData.byteLength - position, MAX_PAYLOAD_SIZE);\n",
              "      const chunk = new Uint8Array(fileData, position, length);\n",
              "      position += length;\n",
              "\n",
              "      const base64 = btoa(String.fromCharCode.apply(null, chunk));\n",
              "      yield {\n",
              "        response: {\n",
              "          action: 'append',\n",
              "          file: file.name,\n",
              "          data: base64,\n",
              "        },\n",
              "      };\n",
              "\n",
              "      let percentDone = fileData.byteLength === 0 ?\n",
              "          100 :\n",
              "          Math.round((position / fileData.byteLength) * 100);\n",
              "      percent.textContent = `${percentDone}% done`;\n",
              "\n",
              "    } while (position < fileData.byteLength);\n",
              "  }\n",
              "\n",
              "  // All done.\n",
              "  yield {\n",
              "    response: {\n",
              "      action: 'complete',\n",
              "    }\n",
              "  };\n",
              "}\n",
              "\n",
              "scope.google = scope.google || {};\n",
              "scope.google.colab = scope.google.colab || {};\n",
              "scope.google.colab._files = {\n",
              "  _uploadFiles,\n",
              "  _uploadFilesContinue,\n",
              "};\n",
              "})(self);\n",
              "</script> "
            ]
          },
          "metadata": {}
        },
        {
          "output_type": "stream",
          "name": "stdout",
          "text": [
            "Saving Deaths by IMD 2001-2022 FINAL.xlsx to Deaths by IMD 2001-2022 FINAL (2).xlsx\n",
            "Saving IMD_Death Data_England_1993_2022.xlsx to IMD_Death Data_England_1993_2022 (2).xlsx\n"
          ]
        },
        {
          "output_type": "execute_result",
          "data": {
            "text/plain": [
              "['Deaths by IMD 2001-2022 FINAL (2).xlsx',\n",
              " 'IMD_Death Data_England_1993_2022 (2).xlsx']"
            ]
          },
          "metadata": {},
          "execution_count": 35
        }
      ]
    },
    {
      "cell_type": "code",
      "source": [
        "# ================================\n",
        "# Step 2: Load DEATHS dataset\n",
        "# ================================\n",
        "\n",
        "deaths_file = \"Deaths by IMD 2001-2022 FINAL (2).xlsx\"   # use EXACT filename from upload list\n",
        "\n",
        "deaths = pd.read_excel(\n",
        "    deaths_file,\n",
        "    sheet_name=\"IMD\",   # ✅ adjust if sheet name is different\n",
        "    skiprows=4          # ✅ skips top metadata rows\n",
        ")\n",
        "\n",
        "print(\"Deaths dataset preview:\\n\", deaths.head(10))\n"
      ],
      "metadata": {
        "colab": {
          "base_uri": "https://localhost:8080/"
        },
        "id": "Zw743T744cHl",
        "outputId": "cb0894a7-3845-4b1a-ead4-ec39688ac9f2"
      },
      "execution_count": null,
      "outputs": [
        {
          "output_type": "stream",
          "name": "stdout",
          "text": [
            "Deaths dataset preview:\n",
            "   This worksheet contains one table.   Unnamed: 1\n",
            "0            Death registration year  IMD version\n",
            "1                       2001 to 2003         2004\n",
            "2                       2004 to 2006         2007\n",
            "3                       2007 to 2010         2010\n",
            "4                       2011 to 2015         2015\n",
            "5                       2016 to 2020         2019\n"
          ]
        }
      ]
    },
    {
      "cell_type": "code",
      "source": [
        "import pandas as pd\n",
        "\n",
        "# List all sheet names in the Deaths file\n",
        "deaths_file = \"Deaths by IMD 2001-2022 FINAL (2).xlsx\"\n",
        "xls = pd.ExcelFile(deaths_file)\n",
        "print(\"Available sheets:\\n\", xls.sheet_names)\n"
      ],
      "metadata": {
        "colab": {
          "base_uri": "https://localhost:8080/"
        },
        "id": "CRmI6emU4u0k",
        "outputId": "a8e1e24f-dff7-4b60-9b78-1348be6d7c48"
      },
      "execution_count": null,
      "outputs": [
        {
          "output_type": "stream",
          "name": "stdout",
          "text": [
            "Available sheets:\n",
            " ['Cover sheet', 'Contents', 'Notes', 'IMD', '1', '2', '3']\n"
          ]
        }
      ]
    },
    {
      "cell_type": "code",
      "source": [
        "# Step 3: Load the \"IMD\" sheet properly\n",
        "deaths = pd.read_excel(\n",
        "    deaths_file,\n",
        "    sheet_name=\"IMD\",   # use the actual sheet with data\n",
        "    skiprows=4          # skips top metadata rows (adjust if needed)\n",
        ")\n",
        "\n",
        "print(\"Deaths dataset preview:\\n\", deaths.head(10))\n"
      ],
      "metadata": {
        "colab": {
          "base_uri": "https://localhost:8080/"
        },
        "id": "pbKrfRCn467E",
        "outputId": "5642a03e-2aac-48e7-8460-dc877fcfce73"
      },
      "execution_count": null,
      "outputs": [
        {
          "output_type": "stream",
          "name": "stdout",
          "text": [
            "Deaths dataset preview:\n",
            "   This worksheet contains one table.   Unnamed: 1\n",
            "0            Death registration year  IMD version\n",
            "1                       2001 to 2003         2004\n",
            "2                       2004 to 2006         2007\n",
            "3                       2007 to 2010         2010\n",
            "4                       2011 to 2015         2015\n",
            "5                       2016 to 2020         2019\n"
          ]
        }
      ]
    },
    {
      "cell_type": "code",
      "source": [
        "# Step 4: Clean the DEATHS dataset\n",
        "\n",
        "# Reload the sheet, skipping 5 rows instead of 4\n",
        "deaths = pd.read_excel(\n",
        "    deaths_file,\n",
        "    sheet_name=\"IMD\",\n",
        "    skiprows=5   # skip more metadata rows\n",
        ")\n",
        "\n",
        "# Rename columns properly\n",
        "deaths.columns = [\"Death_registration_year\", \"IMD_version\"]\n",
        "\n",
        "# Drop rows that are completely empty\n",
        "deaths = deaths.dropna(how=\"all\")\n",
        "\n",
        "print(\"Cleaned Deaths dataset preview:\\n\", deaths.head(10))\n"
      ],
      "metadata": {
        "colab": {
          "base_uri": "https://localhost:8080/"
        },
        "id": "piF5vHSO5Flm",
        "outputId": "6fcda32f-b171-4d15-e9f2-c5affa6c91a8"
      },
      "execution_count": null,
      "outputs": [
        {
          "output_type": "stream",
          "name": "stdout",
          "text": [
            "Cleaned Deaths dataset preview:\n",
            "   Death_registration_year  IMD_version\n",
            "0            2001 to 2003         2004\n",
            "1            2004 to 2006         2007\n",
            "2            2007 to 2010         2010\n",
            "3            2011 to 2015         2015\n",
            "4            2016 to 2020         2019\n"
          ]
        }
      ]
    },
    {
      "cell_type": "code",
      "source": [
        "# ================================\n",
        "# Step 5: Load SECOND dataset (England Death Data)\n",
        "# ================================\n",
        "\n",
        "england_file = \"IND_Death Data_England_1993_2022 (2).xlsx\"  # exact filename\n",
        "xls2 = pd.ExcelFile(england_file)\n",
        "\n",
        "# List available sheet names\n",
        "print(\"Available sheets in 2nd file:\\n\", xls2.sheet_names)\n"
      ],
      "metadata": {
        "colab": {
          "base_uri": "https://localhost:8080/",
          "height": 356
        },
        "id": "-amzuGzi5Nhs",
        "outputId": "eee2c06b-7452-4f86-89d6-24539fbb2632"
      },
      "execution_count": null,
      "outputs": [
        {
          "output_type": "error",
          "ename": "FileNotFoundError",
          "evalue": "[Errno 2] No such file or directory: 'IND_Death Data_England_1993_2022 (2).xlsx'",
          "traceback": [
            "\u001b[0;31m---------------------------------------------------------------------------\u001b[0m",
            "\u001b[0;31mFileNotFoundError\u001b[0m                         Traceback (most recent call last)",
            "\u001b[0;32m/tmp/ipython-input-4101113697.py\u001b[0m in \u001b[0;36m<cell line: 0>\u001b[0;34m()\u001b[0m\n\u001b[1;32m      4\u001b[0m \u001b[0;34m\u001b[0m\u001b[0m\n\u001b[1;32m      5\u001b[0m \u001b[0mengland_file\u001b[0m \u001b[0;34m=\u001b[0m \u001b[0;34m\"IND_Death Data_England_1993_2022 (2).xlsx\"\u001b[0m  \u001b[0;31m# exact filename\u001b[0m\u001b[0;34m\u001b[0m\u001b[0;34m\u001b[0m\u001b[0m\n\u001b[0;32m----> 6\u001b[0;31m \u001b[0mxls2\u001b[0m \u001b[0;34m=\u001b[0m \u001b[0mpd\u001b[0m\u001b[0;34m.\u001b[0m\u001b[0mExcelFile\u001b[0m\u001b[0;34m(\u001b[0m\u001b[0mengland_file\u001b[0m\u001b[0;34m)\u001b[0m\u001b[0;34m\u001b[0m\u001b[0;34m\u001b[0m\u001b[0m\n\u001b[0m\u001b[1;32m      7\u001b[0m \u001b[0;34m\u001b[0m\u001b[0m\n\u001b[1;32m      8\u001b[0m \u001b[0;31m# List available sheet names\u001b[0m\u001b[0;34m\u001b[0m\u001b[0;34m\u001b[0m\u001b[0m\n",
            "\u001b[0;32m/usr/local/lib/python3.11/dist-packages/pandas/io/excel/_base.py\u001b[0m in \u001b[0;36m__init__\u001b[0;34m(self, path_or_buffer, engine, storage_options, engine_kwargs)\u001b[0m\n\u001b[1;32m   1548\u001b[0m                 \u001b[0mext\u001b[0m \u001b[0;34m=\u001b[0m \u001b[0;34m\"xls\"\u001b[0m\u001b[0;34m\u001b[0m\u001b[0;34m\u001b[0m\u001b[0m\n\u001b[1;32m   1549\u001b[0m             \u001b[0;32melse\u001b[0m\u001b[0;34m:\u001b[0m\u001b[0;34m\u001b[0m\u001b[0;34m\u001b[0m\u001b[0m\n\u001b[0;32m-> 1550\u001b[0;31m                 ext = inspect_excel_format(\n\u001b[0m\u001b[1;32m   1551\u001b[0m                     \u001b[0mcontent_or_path\u001b[0m\u001b[0;34m=\u001b[0m\u001b[0mpath_or_buffer\u001b[0m\u001b[0;34m,\u001b[0m \u001b[0mstorage_options\u001b[0m\u001b[0;34m=\u001b[0m\u001b[0mstorage_options\u001b[0m\u001b[0;34m\u001b[0m\u001b[0;34m\u001b[0m\u001b[0m\n\u001b[1;32m   1552\u001b[0m                 )\n",
            "\u001b[0;32m/usr/local/lib/python3.11/dist-packages/pandas/io/excel/_base.py\u001b[0m in \u001b[0;36minspect_excel_format\u001b[0;34m(content_or_path, storage_options)\u001b[0m\n\u001b[1;32m   1400\u001b[0m         \u001b[0mcontent_or_path\u001b[0m \u001b[0;34m=\u001b[0m \u001b[0mBytesIO\u001b[0m\u001b[0;34m(\u001b[0m\u001b[0mcontent_or_path\u001b[0m\u001b[0;34m)\u001b[0m\u001b[0;34m\u001b[0m\u001b[0;34m\u001b[0m\u001b[0m\n\u001b[1;32m   1401\u001b[0m \u001b[0;34m\u001b[0m\u001b[0m\n\u001b[0;32m-> 1402\u001b[0;31m     with get_handle(\n\u001b[0m\u001b[1;32m   1403\u001b[0m         \u001b[0mcontent_or_path\u001b[0m\u001b[0;34m,\u001b[0m \u001b[0;34m\"rb\"\u001b[0m\u001b[0;34m,\u001b[0m \u001b[0mstorage_options\u001b[0m\u001b[0;34m=\u001b[0m\u001b[0mstorage_options\u001b[0m\u001b[0;34m,\u001b[0m \u001b[0mis_text\u001b[0m\u001b[0;34m=\u001b[0m\u001b[0;32mFalse\u001b[0m\u001b[0;34m\u001b[0m\u001b[0;34m\u001b[0m\u001b[0m\n\u001b[1;32m   1404\u001b[0m     ) as handle:\n",
            "\u001b[0;32m/usr/local/lib/python3.11/dist-packages/pandas/io/common.py\u001b[0m in \u001b[0;36mget_handle\u001b[0;34m(path_or_buf, mode, encoding, compression, memory_map, is_text, errors, storage_options)\u001b[0m\n\u001b[1;32m    880\u001b[0m         \u001b[0;32melse\u001b[0m\u001b[0;34m:\u001b[0m\u001b[0;34m\u001b[0m\u001b[0;34m\u001b[0m\u001b[0m\n\u001b[1;32m    881\u001b[0m             \u001b[0;31m# Binary mode\u001b[0m\u001b[0;34m\u001b[0m\u001b[0;34m\u001b[0m\u001b[0m\n\u001b[0;32m--> 882\u001b[0;31m             \u001b[0mhandle\u001b[0m \u001b[0;34m=\u001b[0m \u001b[0mopen\u001b[0m\u001b[0;34m(\u001b[0m\u001b[0mhandle\u001b[0m\u001b[0;34m,\u001b[0m \u001b[0mioargs\u001b[0m\u001b[0;34m.\u001b[0m\u001b[0mmode\u001b[0m\u001b[0;34m)\u001b[0m\u001b[0;34m\u001b[0m\u001b[0;34m\u001b[0m\u001b[0m\n\u001b[0m\u001b[1;32m    883\u001b[0m         \u001b[0mhandles\u001b[0m\u001b[0;34m.\u001b[0m\u001b[0mappend\u001b[0m\u001b[0;34m(\u001b[0m\u001b[0mhandle\u001b[0m\u001b[0;34m)\u001b[0m\u001b[0;34m\u001b[0m\u001b[0;34m\u001b[0m\u001b[0m\n\u001b[1;32m    884\u001b[0m \u001b[0;34m\u001b[0m\u001b[0m\n",
            "\u001b[0;31mFileNotFoundError\u001b[0m: [Errno 2] No such file or directory: 'IND_Death Data_England_1993_2022 (2).xlsx'"
          ]
        }
      ]
    },
    {
      "cell_type": "code",
      "source": [
        "import os, glob, pandas as pd\n",
        "\n",
        "# See what's in /content to copy exact names\n",
        "print(os.listdir(\"/content\"))\n",
        "\n",
        "# Use the exact filename from your upload list\n",
        "england_file = \"IMD_Death Data_England_1993_2022 (2).xlsx\"  # <-- note IMD_, spaces, and (2)\n",
        "\n",
        "# If the exact name ever changes, auto-find it:\n",
        "if not os.path.exists(england_file):\n",
        "    hits = glob.glob(\"IMD*Death*England*1993*2022*.xlsx\")\n",
        "    assert hits, \"IMD Excel not found—upload again.\"\n",
        "    england_file = hits[0]\n",
        "\n",
        "# List sheet names so we pick the right one next\n",
        "xls2 = pd.ExcelFile(england_file)\n",
        "print(\"Sheets in IMD file:\", xls2.sheet_names)\n"
      ],
      "metadata": {
        "colab": {
          "base_uri": "https://localhost:8080/"
        },
        "id": "DwCIFKIS5jQr",
        "outputId": "cc943c9e-098c-4ae0-cc05-19ba58173685"
      },
      "execution_count": null,
      "outputs": [
        {
          "output_type": "stream",
          "name": "stdout",
          "text": [
            "['.config', 'Deaths by IMD 2001-2022 FINAL.xlsx', 'IMD_Death Data_England_1993_2022 (1).xlsx', 'Deaths by IMD 2001-2022 FINAL (2).xlsx', 'Deaths by IMD 2001-2022 FINAL (1).xlsx', 'IMD_Death Data_England_1993_2022.xlsx', 'IMD_Death Data_England_1993_2022 (2).xlsx', 'sample_data']\n",
            "Sheets in IMD file: ['Cover sheet', 'Contents', 'Notes', 'IMD', 'Definition', '1', '2', '3', '4', '5', '6']\n"
          ]
        }
      ]
    },
    {
      "cell_type": "code",
      "source": [
        "# Step 6: Load the actual data sheet from England dataset\n",
        "england = pd.read_excel(\n",
        "    england_file,\n",
        "    sheet_name=\"1\",   # Pick sheet \"1\" based on your list\n",
        "    skiprows=4        # Skip metadata rows at the top\n",
        ")\n",
        "\n",
        "# Preview\n",
        "print(\"England dataset preview:\\n\", england.head(10))\n"
      ],
      "metadata": {
        "colab": {
          "base_uri": "https://localhost:8080/"
        },
        "id": "RzHtnPYa5wsl",
        "outputId": "27c46f5a-05a5-405c-84c9-c2abb7fc20d6"
      },
      "execution_count": null,
      "outputs": [
        {
          "output_type": "stream",
          "name": "stdout",
          "text": [
            "England dataset preview:\n",
            "   Some cells refer to notes which can be found on the 'Notes' worksheet.  \\\n",
            "0                                         IMD decile                       \n",
            "1                                                  1                       \n",
            "2                                                  1                       \n",
            "3                                                  1                       \n",
            "4                                                  1                       \n",
            "5                                                  1                       \n",
            "6                                                  1                       \n",
            "7                                                  1                       \n",
            "8                                                  1                       \n",
            "9                                                  1                       \n",
            "\n",
            "  Unnamed: 1  Unnamed: 2  Unnamed: 3  Unnamed: 4  Unnamed: 5  Unnamed: 6  \\\n",
            "0  Age group        1993        1994        1995        1996        1997   \n",
            "1        <15           0           1           0           0           0   \n",
            "2      15-19          10          11           7           8           7   \n",
            "3      20-24          62          41          43          35          37   \n",
            "4      25-29          59          63          56          50          64   \n",
            "5      30-34          51          52          54          63          63   \n",
            "6      35-39          44          29          50          40          31   \n",
            "7      40-44          40          33          38          39          29   \n",
            "8      45-49          42          28          32          36          48   \n",
            "9      50-54          18          21          18          15          23   \n",
            "\n",
            "   Unnamed: 7  Unnamed: 8  Unnamed: 9  ...  Unnamed: 22  Unnamed: 23  \\\n",
            "0        1998        1999        2000  ...         2013         2014   \n",
            "1           0           1           0  ...            2            0   \n",
            "2          15           9          11  ...            9           13   \n",
            "3          49          25          33  ...           24           27   \n",
            "4          65          66          42  ...           39           36   \n",
            "5          80          59          70  ...           37           39   \n",
            "6          41          54          63  ...           48           51   \n",
            "7          25          43          41  ...           58           56   \n",
            "8          31          31          43  ...           46           63   \n",
            "9          25          24          25  ...           47           46   \n",
            "\n",
            "   Unnamed: 24  Unnamed: 25  Unnamed: 26  Unnamed: 27  Unnamed: 28  \\\n",
            "0         2015         2016         2017         2018         2019   \n",
            "1            0            0            3            1            3   \n",
            "2            7           13            7            6           16   \n",
            "3           28           45           15           29           23   \n",
            "4           42           38           26           37           51   \n",
            "5           37           42           41           48           74   \n",
            "6           32           34           40           41           54   \n",
            "7           60           44           43           37           53   \n",
            "8           50           42           60           46           59   \n",
            "9           32           50           39           42           51   \n",
            "\n",
            "   Unnamed: 29  Unnamed: 30  Unnamed: 31  \n",
            "0         2020         2021         2022  \n",
            "1            1            0            0  \n",
            "2            9           22           11  \n",
            "3           23           26           32  \n",
            "4           41           52           60  \n",
            "5           63           58           64  \n",
            "6           54           52           59  \n",
            "7           48           51           41  \n",
            "8           47           55           53  \n",
            "9           55           51           57  \n",
            "\n",
            "[10 rows x 32 columns]\n"
          ]
        }
      ]
    },
    {
      "cell_type": "code",
      "source": [
        "# Load the IMD sheet from the second Excel (England Death Data)\n",
        "england = pd.read_excel(\n",
        "    england_file,\n",
        "    sheet_name=\"IMD\",\n",
        "    skiprows=5  # skip top metadata rows\n",
        ")\n",
        "\n",
        "# Rename columns properly\n",
        "england.columns = [\"Death_registration_year\", \"IMD_version\"]\n",
        "\n",
        "# Drop empty rows\n",
        "england = england.dropna(how=\"all\")\n",
        "\n",
        "print(\"Cleaned England dataset preview:\\n\", england.head(10))\n"
      ],
      "metadata": {
        "colab": {
          "base_uri": "https://localhost:8080/"
        },
        "id": "oY2MEo1i6FQK",
        "outputId": "9d895886-705c-4b69-a3cd-7afd6ce833b2"
      },
      "execution_count": null,
      "outputs": [
        {
          "output_type": "stream",
          "name": "stdout",
          "text": [
            "Cleaned England dataset preview:\n",
            "   Death_registration_year  IMD_version\n",
            "0            1993 to 2003         2004\n",
            "1            2004 to 2006         2007\n",
            "2            2007 to 2010         2010\n",
            "3            2011 to 2015         2015\n",
            "4            2016 to 2022         2019\n"
          ]
        }
      ]
    },
    {
      "cell_type": "code",
      "source": [
        "# Merge the IMD lookup with the deaths dataset\n",
        "merged = deaths.merge(\n",
        "    england,\n",
        "    left_on=\"year\",\n",
        "    right_on=\"Death_registration_year\",\n",
        "    how=\"left\"\n",
        ")\n",
        "\n",
        "print(\"Merged dataset preview:\\n\", merged.head(10))\n",
        "print(\"\\nMerged dataset shape:\", merged.shape)\n"
      ],
      "metadata": {
        "colab": {
          "base_uri": "https://localhost:8080/",
          "height": 356
        },
        "id": "TbF-2LFG6QPd",
        "outputId": "c1c6d6fb-9256-4058-bd63-a69bba81d4a2"
      },
      "execution_count": null,
      "outputs": [
        {
          "output_type": "error",
          "ename": "KeyError",
          "evalue": "'year'",
          "traceback": [
            "\u001b[0;31m---------------------------------------------------------------------------\u001b[0m",
            "\u001b[0;31mKeyError\u001b[0m                                  Traceback (most recent call last)",
            "\u001b[0;32m/tmp/ipython-input-849410176.py\u001b[0m in \u001b[0;36m<cell line: 0>\u001b[0;34m()\u001b[0m\n\u001b[1;32m      1\u001b[0m \u001b[0;31m# Merge the IMD lookup with the deaths dataset\u001b[0m\u001b[0;34m\u001b[0m\u001b[0;34m\u001b[0m\u001b[0m\n\u001b[0;32m----> 2\u001b[0;31m merged = deaths.merge(\n\u001b[0m\u001b[1;32m      3\u001b[0m     \u001b[0mengland\u001b[0m\u001b[0;34m,\u001b[0m\u001b[0;34m\u001b[0m\u001b[0;34m\u001b[0m\u001b[0m\n\u001b[1;32m      4\u001b[0m     \u001b[0mleft_on\u001b[0m\u001b[0;34m=\u001b[0m\u001b[0;34m\"year\"\u001b[0m\u001b[0;34m,\u001b[0m\u001b[0;34m\u001b[0m\u001b[0;34m\u001b[0m\u001b[0m\n\u001b[1;32m      5\u001b[0m     \u001b[0mright_on\u001b[0m\u001b[0;34m=\u001b[0m\u001b[0;34m\"Death_registration_year\"\u001b[0m\u001b[0;34m,\u001b[0m\u001b[0;34m\u001b[0m\u001b[0;34m\u001b[0m\u001b[0m\n",
            "\u001b[0;32m/usr/local/lib/python3.11/dist-packages/pandas/core/frame.py\u001b[0m in \u001b[0;36mmerge\u001b[0;34m(self, right, how, on, left_on, right_on, left_index, right_index, sort, suffixes, copy, indicator, validate)\u001b[0m\n\u001b[1;32m  10830\u001b[0m         \u001b[0;32mfrom\u001b[0m \u001b[0mpandas\u001b[0m\u001b[0;34m.\u001b[0m\u001b[0mcore\u001b[0m\u001b[0;34m.\u001b[0m\u001b[0mreshape\u001b[0m\u001b[0;34m.\u001b[0m\u001b[0mmerge\u001b[0m \u001b[0;32mimport\u001b[0m \u001b[0mmerge\u001b[0m\u001b[0;34m\u001b[0m\u001b[0;34m\u001b[0m\u001b[0m\n\u001b[1;32m  10831\u001b[0m \u001b[0;34m\u001b[0m\u001b[0m\n\u001b[0;32m> 10832\u001b[0;31m         return merge(\n\u001b[0m\u001b[1;32m  10833\u001b[0m             \u001b[0mself\u001b[0m\u001b[0;34m,\u001b[0m\u001b[0;34m\u001b[0m\u001b[0;34m\u001b[0m\u001b[0m\n\u001b[1;32m  10834\u001b[0m             \u001b[0mright\u001b[0m\u001b[0;34m,\u001b[0m\u001b[0;34m\u001b[0m\u001b[0;34m\u001b[0m\u001b[0m\n",
            "\u001b[0;32m/usr/local/lib/python3.11/dist-packages/pandas/core/reshape/merge.py\u001b[0m in \u001b[0;36mmerge\u001b[0;34m(left, right, how, on, left_on, right_on, left_index, right_index, sort, suffixes, copy, indicator, validate)\u001b[0m\n\u001b[1;32m    168\u001b[0m         )\n\u001b[1;32m    169\u001b[0m     \u001b[0;32melse\u001b[0m\u001b[0;34m:\u001b[0m\u001b[0;34m\u001b[0m\u001b[0;34m\u001b[0m\u001b[0m\n\u001b[0;32m--> 170\u001b[0;31m         op = _MergeOperation(\n\u001b[0m\u001b[1;32m    171\u001b[0m             \u001b[0mleft_df\u001b[0m\u001b[0;34m,\u001b[0m\u001b[0;34m\u001b[0m\u001b[0;34m\u001b[0m\u001b[0m\n\u001b[1;32m    172\u001b[0m             \u001b[0mright_df\u001b[0m\u001b[0;34m,\u001b[0m\u001b[0;34m\u001b[0m\u001b[0;34m\u001b[0m\u001b[0m\n",
            "\u001b[0;32m/usr/local/lib/python3.11/dist-packages/pandas/core/reshape/merge.py\u001b[0m in \u001b[0;36m__init__\u001b[0;34m(self, left, right, how, on, left_on, right_on, left_index, right_index, sort, suffixes, indicator, validate)\u001b[0m\n\u001b[1;32m    792\u001b[0m             \u001b[0mleft_drop\u001b[0m\u001b[0;34m,\u001b[0m\u001b[0;34m\u001b[0m\u001b[0;34m\u001b[0m\u001b[0m\n\u001b[1;32m    793\u001b[0m             \u001b[0mright_drop\u001b[0m\u001b[0;34m,\u001b[0m\u001b[0;34m\u001b[0m\u001b[0;34m\u001b[0m\u001b[0m\n\u001b[0;32m--> 794\u001b[0;31m         ) = self._get_merge_keys()\n\u001b[0m\u001b[1;32m    795\u001b[0m \u001b[0;34m\u001b[0m\u001b[0m\n\u001b[1;32m    796\u001b[0m         \u001b[0;32mif\u001b[0m \u001b[0mleft_drop\u001b[0m\u001b[0;34m:\u001b[0m\u001b[0;34m\u001b[0m\u001b[0;34m\u001b[0m\u001b[0m\n",
            "\u001b[0;32m/usr/local/lib/python3.11/dist-packages/pandas/core/reshape/merge.py\u001b[0m in \u001b[0;36m_get_merge_keys\u001b[0;34m(self)\u001b[0m\n\u001b[1;32m   1308\u001b[0m                         \u001b[0;31m#  the latter of which will raise\u001b[0m\u001b[0;34m\u001b[0m\u001b[0;34m\u001b[0m\u001b[0m\n\u001b[1;32m   1309\u001b[0m                         \u001b[0mlk\u001b[0m \u001b[0;34m=\u001b[0m \u001b[0mcast\u001b[0m\u001b[0;34m(\u001b[0m\u001b[0mHashable\u001b[0m\u001b[0;34m,\u001b[0m \u001b[0mlk\u001b[0m\u001b[0;34m)\u001b[0m\u001b[0;34m\u001b[0m\u001b[0;34m\u001b[0m\u001b[0m\n\u001b[0;32m-> 1310\u001b[0;31m                         \u001b[0mleft_keys\u001b[0m\u001b[0;34m.\u001b[0m\u001b[0mappend\u001b[0m\u001b[0;34m(\u001b[0m\u001b[0mleft\u001b[0m\u001b[0;34m.\u001b[0m\u001b[0m_get_label_or_level_values\u001b[0m\u001b[0;34m(\u001b[0m\u001b[0mlk\u001b[0m\u001b[0;34m)\u001b[0m\u001b[0;34m)\u001b[0m\u001b[0;34m\u001b[0m\u001b[0;34m\u001b[0m\u001b[0m\n\u001b[0m\u001b[1;32m   1311\u001b[0m                         \u001b[0mjoin_names\u001b[0m\u001b[0;34m.\u001b[0m\u001b[0mappend\u001b[0m\u001b[0;34m(\u001b[0m\u001b[0mlk\u001b[0m\u001b[0;34m)\u001b[0m\u001b[0;34m\u001b[0m\u001b[0;34m\u001b[0m\u001b[0m\n\u001b[1;32m   1312\u001b[0m                     \u001b[0;32melse\u001b[0m\u001b[0;34m:\u001b[0m\u001b[0;34m\u001b[0m\u001b[0;34m\u001b[0m\u001b[0m\n",
            "\u001b[0;32m/usr/local/lib/python3.11/dist-packages/pandas/core/generic.py\u001b[0m in \u001b[0;36m_get_label_or_level_values\u001b[0;34m(self, key, axis)\u001b[0m\n\u001b[1;32m   1909\u001b[0m             \u001b[0mvalues\u001b[0m \u001b[0;34m=\u001b[0m \u001b[0mself\u001b[0m\u001b[0;34m.\u001b[0m\u001b[0maxes\u001b[0m\u001b[0;34m[\u001b[0m\u001b[0maxis\u001b[0m\u001b[0;34m]\u001b[0m\u001b[0;34m.\u001b[0m\u001b[0mget_level_values\u001b[0m\u001b[0;34m(\u001b[0m\u001b[0mkey\u001b[0m\u001b[0;34m)\u001b[0m\u001b[0;34m.\u001b[0m\u001b[0m_values\u001b[0m\u001b[0;34m\u001b[0m\u001b[0;34m\u001b[0m\u001b[0m\n\u001b[1;32m   1910\u001b[0m         \u001b[0;32melse\u001b[0m\u001b[0;34m:\u001b[0m\u001b[0;34m\u001b[0m\u001b[0;34m\u001b[0m\u001b[0m\n\u001b[0;32m-> 1911\u001b[0;31m             \u001b[0;32mraise\u001b[0m \u001b[0mKeyError\u001b[0m\u001b[0;34m(\u001b[0m\u001b[0mkey\u001b[0m\u001b[0;34m)\u001b[0m\u001b[0;34m\u001b[0m\u001b[0;34m\u001b[0m\u001b[0m\n\u001b[0m\u001b[1;32m   1912\u001b[0m \u001b[0;34m\u001b[0m\u001b[0m\n\u001b[1;32m   1913\u001b[0m         \u001b[0;31m# Check for duplicates\u001b[0m\u001b[0;34m\u001b[0m\u001b[0;34m\u001b[0m\u001b[0m\n",
            "\u001b[0;31mKeyError\u001b[0m: 'year'"
          ]
        }
      ]
    },
    {
      "cell_type": "code",
      "source": [
        "print(deaths.columns)\n",
        "\n"
      ],
      "metadata": {
        "colab": {
          "base_uri": "https://localhost:8080/"
        },
        "id": "0TXpU-ZZ6c0v",
        "outputId": "6704371a-40a7-4746-93e4-d95849d72150"
      },
      "execution_count": null,
      "outputs": [
        {
          "output_type": "stream",
          "name": "stdout",
          "text": [
            "Index(['Death_registration_year', 'IMD_version'], dtype='object')\n"
          ]
        }
      ]
    },
    {
      "cell_type": "code",
      "source": [
        "# Merge the IMD lookup with the deaths dataset\n",
        "merged = deaths.merge(\n",
        "    england,\n",
        "    left_on=\"Death_registration_year\",   # from deaths DataFrame\n",
        "    right_on=\"Death_registration_year\",  # from england DataFrame\n",
        "    how=\"left\"\n",
        ")\n",
        "\n",
        "print(\"Merged dataset preview:\\n\", merged.head(10))\n",
        "print(\"\\nMerged dataset shape:\", merged.shape)\n"
      ],
      "metadata": {
        "colab": {
          "base_uri": "https://localhost:8080/"
        },
        "id": "FFH1e9Tz7DPf",
        "outputId": "b44ec11f-18d9-49e9-c782-0cc13d4e5d4c"
      },
      "execution_count": null,
      "outputs": [
        {
          "output_type": "stream",
          "name": "stdout",
          "text": [
            "Merged dataset preview:\n",
            "   Death_registration_year  IMD_version_x  IMD_version_y\n",
            "0            2001 to 2003           2004            NaN\n",
            "1            2004 to 2006           2007            NaN\n",
            "2            2007 to 2010           2010            NaN\n",
            "3            2011 to 2015           2015            NaN\n",
            "4            2016 to 2020           2019            NaN\n",
            "\n",
            "Merged dataset shape: (5, 3)\n"
          ]
        }
      ]
    },
    {
      "cell_type": "code",
      "source": [
        "print(\"Deaths dataset years:\", deaths['Death_registration_year'].unique())\n",
        "print(\"\\nEngland dataset years:\", england['Death_registration_year'].unique())\n"
      ],
      "metadata": {
        "colab": {
          "base_uri": "https://localhost:8080/"
        },
        "id": "o4aanttP7QLq",
        "outputId": "ee593fed-5086-4799-ba82-5a70a8b93e6c"
      },
      "execution_count": null,
      "outputs": [
        {
          "output_type": "stream",
          "name": "stdout",
          "text": [
            "Deaths dataset years: ['2001\\xa0to 2003' '2004\\xa0to 2006' '2007\\xa0to 2010' '2011\\xa0to 2015'\n",
            " '2016\\xa0to 2020']\n",
            "\n",
            "England dataset years: ['1993 to 2003' '2004 to 2006' '2007 to 2010' '2011 to 2015'\n",
            " '2016 to 2022']\n"
          ]
        }
      ]
    },
    {
      "cell_type": "code",
      "source": [
        "import re\n",
        "\n",
        "def norm_year(s):\n",
        "    s = str(s)\n",
        "    # remove non-breaking spaces and tidy whitespace\n",
        "    s = s.replace(\"\\xa0\", \" \").strip()\n",
        "    s = \" \".join(s.split())\n",
        "    # make all separators consistent:  \"1993–2003\", \"1993-2003\", \"1993  to  2003\" -> \"1993 to 2003\"\n",
        "    s = re.sub(r\"\\s*(?:to|–|—|-)\\s*\", \" to \", s, flags=re.IGNORECASE)\n",
        "    return s\n",
        "\n",
        "# Make normalized join keys\n",
        "deaths[\"year_norm\"]  = deaths[\"Death_registration_year\"].apply(norm_year)\n",
        "england[\"year_norm\"] = england[\"Death_registration_year\"].apply(norm_year)\n",
        "\n",
        "print(\"Deaths years (normalized):\", deaths[\"year_norm\"].unique())\n",
        "print(\"England years (normalized):\", england[\"year_norm\"].unique())\n",
        "\n",
        "# Merge on the normalized key\n",
        "merged = deaths.merge(\n",
        "    england[[\"year_norm\", \"IMD_version\"]],   # from lookup\n",
        "    on=\"year_norm\",\n",
        "    how=\"left\",\n",
        "    suffixes=(\"_deaths\", \"_lookup\")\n",
        ")\n",
        "\n",
        "# choose IMD_version from lookup when available, otherwise keep deaths' version\n",
        "if \"IMD_version_deaths\" in merged.columns and \"IMD_version_lookup\" in merged.columns:\n",
        "    merged[\"IMD_version_final\"] = merged[\"IMD_version_lookup\"].fillna(merged[\"IMD_version_deaths\"])\n",
        "else:\n",
        "    # if your columns were named IMD_version_x / IMD_version_y:\n",
        "    merged[\"IMD_version_final\"] = merged.get(\"IMD_version_y\", merged.get(\"IMD_version\", None)).fillna(\n",
        "        merged.get(\"IMD_version_x\", merged.get(\"IMD_version\", None))\n",
        "    )\n",
        "\n",
        "# tidy up columns\n",
        "cols_to_drop = [c for c in merged.columns if c.endswith(\"_deaths\") or c.endswith(\"_lookup\") or c in [\"IMD_version_x\",\"IMD_version_y\"]]\n",
        "merged = merged.drop(columns=cols_to_drop, errors=\"ignore\")\n",
        "\n",
        "print(\"\\nMerged preview:\")\n",
        "print(merged.head(10))\n",
        "print(\"\\nMerged shape:\", merged.shape)\n"
      ],
      "metadata": {
        "colab": {
          "base_uri": "https://localhost:8080/"
        },
        "id": "sO1pUMMM7rz6",
        "outputId": "931b4b2f-5713-45a8-b7c6-b8bf6358b55d"
      },
      "execution_count": null,
      "outputs": [
        {
          "output_type": "stream",
          "name": "stdout",
          "text": [
            "Deaths years (normalized): ['2001 to 2003' '2004 to 2006' '2007 to 2010' '2011 to 2015'\n",
            " '2016 to 2020']\n",
            "England years (normalized): ['1993 to 2003' '2004 to 2006' '2007 to 2010' '2011 to 2015'\n",
            " '2016 to 2022']\n",
            "\n",
            "Merged preview:\n",
            "  Death_registration_year     year_norm  IMD_version_final\n",
            "0            2001 to 2003  2001 to 2003             2004.0\n",
            "1            2004 to 2006  2004 to 2006             2007.0\n",
            "2            2007 to 2010  2007 to 2010             2010.0\n",
            "3            2011 to 2015  2011 to 2015             2015.0\n",
            "4            2016 to 2020  2016 to 2020             2019.0\n",
            "\n",
            "Merged shape: (5, 3)\n"
          ]
        }
      ]
    },
    {
      "cell_type": "code",
      "source": [
        "merged = deaths.merge(\n",
        "    england,\n",
        "    left_on=\"year_norm\",   # normalized year column in deaths\n",
        "    right_on=\"year_norm\",  # normalized year column in england\n",
        "    how=\"left\"\n",
        ")\n",
        "\n",
        "print(\"Merged dataset preview:\\n\", merged.head(10))\n",
        "print(\"\\nMerged dataset shape:\", merged.shape)\n"
      ],
      "metadata": {
        "colab": {
          "base_uri": "https://localhost:8080/"
        },
        "id": "1UDwmW8H8bVD",
        "outputId": "e7ff5094-2a4d-4726-bff7-e411cef100a9"
      },
      "execution_count": null,
      "outputs": [
        {
          "output_type": "stream",
          "name": "stdout",
          "text": [
            "Merged dataset preview:\n",
            "   Death_registration_year_x  IMD_version_x     year_norm  \\\n",
            "0              2001 to 2003           2004  2001 to 2003   \n",
            "1              2004 to 2006           2007  2004 to 2006   \n",
            "2              2007 to 2010           2010  2007 to 2010   \n",
            "3              2011 to 2015           2015  2011 to 2015   \n",
            "4              2016 to 2020           2019  2016 to 2020   \n",
            "\n",
            "  Death_registration_year_y  IMD_version_y  \n",
            "0                       NaN            NaN  \n",
            "1              2004 to 2006         2007.0  \n",
            "2              2007 to 2010         2010.0  \n",
            "3              2011 to 2015         2015.0  \n",
            "4                       NaN            NaN  \n",
            "\n",
            "Merged dataset shape: (5, 5)\n"
          ]
        }
      ]
    },
    {
      "cell_type": "code",
      "source": [
        "print(deaths.columns)\n",
        "print(england.columns)\n"
      ],
      "metadata": {
        "colab": {
          "base_uri": "https://localhost:8080/"
        },
        "id": "g-tjj_4L8fsC",
        "outputId": "b28862e4-3484-4607-80b6-374e0631f10d"
      },
      "execution_count": null,
      "outputs": [
        {
          "output_type": "stream",
          "name": "stdout",
          "text": [
            "Index(['Death_registration_year', 'IMD_version', 'year_norm'], dtype='object')\n",
            "Index(['Death_registration_year', 'IMD_version', 'year_norm'], dtype='object')\n"
          ]
        }
      ]
    },
    {
      "cell_type": "code",
      "source": [
        "deaths.rename(columns={\"old_name\": \"year_norm\"}, inplace=True)\n",
        "england.rename(columns={\"old_name\": \"year_norm\"}, inplace=True)\n"
      ],
      "metadata": {
        "id": "dbCp_yep8iKH"
      },
      "execution_count": null,
      "outputs": []
    },
    {
      "cell_type": "code",
      "source": [
        "# Split \"2001 to 2003\" into numeric start/end\n",
        "merged[['start_year', 'end_year']] = (\n",
        "    merged['Death_registration_year']\n",
        "      .str.replace('\\xa0',' ', regex=False)\n",
        "      .str.strip()\n",
        "      .str.replace(r'\\s*(?:to|–|—|-)\\s*', ' to ', regex=True)\n",
        "      .str.split(' to ', expand=True)\n",
        ")\n",
        "merged['start_year'] = merged['start_year'].astype(int)\n",
        "merged['end_year']   = merged['end_year'].astype(int)\n",
        "\n",
        "# Expand each range to one row per single year (useful for plots)\n",
        "rows = []\n",
        "for _, r in merged.iterrows():\n",
        "    for y in range(r.start_year, r.end_year + 1):\n",
        "        rows.append({'year': y, 'IMD_version_final': r['IMD_version_final']})\n",
        "\n",
        "expanded = pd.DataFrame(rows)\n",
        "\n",
        "print(\"Expanded preview:\")\n",
        "print(expanded.head(12))\n",
        "print(\"\\nExpanded shape:\", expanded.shape)\n"
      ],
      "metadata": {
        "colab": {
          "base_uri": "https://localhost:8080/",
          "height": 547
        },
        "id": "58HI4a3x9Gyq",
        "outputId": "3e16423a-6e8a-4815-9041-3211701b3822"
      },
      "execution_count": null,
      "outputs": [
        {
          "output_type": "error",
          "ename": "KeyError",
          "evalue": "'Death_registration_year'",
          "traceback": [
            "\u001b[0;31m---------------------------------------------------------------------------\u001b[0m",
            "\u001b[0;31mKeyError\u001b[0m                                  Traceback (most recent call last)",
            "\u001b[0;32m/usr/local/lib/python3.11/dist-packages/pandas/core/indexes/base.py\u001b[0m in \u001b[0;36mget_loc\u001b[0;34m(self, key)\u001b[0m\n\u001b[1;32m   3804\u001b[0m         \u001b[0;32mtry\u001b[0m\u001b[0;34m:\u001b[0m\u001b[0;34m\u001b[0m\u001b[0;34m\u001b[0m\u001b[0m\n\u001b[0;32m-> 3805\u001b[0;31m             \u001b[0;32mreturn\u001b[0m \u001b[0mself\u001b[0m\u001b[0;34m.\u001b[0m\u001b[0m_engine\u001b[0m\u001b[0;34m.\u001b[0m\u001b[0mget_loc\u001b[0m\u001b[0;34m(\u001b[0m\u001b[0mcasted_key\u001b[0m\u001b[0;34m)\u001b[0m\u001b[0;34m\u001b[0m\u001b[0;34m\u001b[0m\u001b[0m\n\u001b[0m\u001b[1;32m   3806\u001b[0m         \u001b[0;32mexcept\u001b[0m \u001b[0mKeyError\u001b[0m \u001b[0;32mas\u001b[0m \u001b[0merr\u001b[0m\u001b[0;34m:\u001b[0m\u001b[0;34m\u001b[0m\u001b[0;34m\u001b[0m\u001b[0m\n",
            "\u001b[0;32mindex.pyx\u001b[0m in \u001b[0;36mpandas._libs.index.IndexEngine.get_loc\u001b[0;34m()\u001b[0m\n",
            "\u001b[0;32mindex.pyx\u001b[0m in \u001b[0;36mpandas._libs.index.IndexEngine.get_loc\u001b[0;34m()\u001b[0m\n",
            "\u001b[0;32mpandas/_libs/hashtable_class_helper.pxi\u001b[0m in \u001b[0;36mpandas._libs.hashtable.PyObjectHashTable.get_item\u001b[0;34m()\u001b[0m\n",
            "\u001b[0;32mpandas/_libs/hashtable_class_helper.pxi\u001b[0m in \u001b[0;36mpandas._libs.hashtable.PyObjectHashTable.get_item\u001b[0;34m()\u001b[0m\n",
            "\u001b[0;31mKeyError\u001b[0m: 'Death_registration_year'",
            "\nThe above exception was the direct cause of the following exception:\n",
            "\u001b[0;31mKeyError\u001b[0m                                  Traceback (most recent call last)",
            "\u001b[0;32m/tmp/ipython-input-804651140.py\u001b[0m in \u001b[0;36m<cell line: 0>\u001b[0;34m()\u001b[0m\n\u001b[1;32m      1\u001b[0m \u001b[0;31m# Split \"2001 to 2003\" into numeric start/end\u001b[0m\u001b[0;34m\u001b[0m\u001b[0;34m\u001b[0m\u001b[0m\n\u001b[1;32m      2\u001b[0m merged[['start_year', 'end_year']] = (\n\u001b[0;32m----> 3\u001b[0;31m     \u001b[0mmerged\u001b[0m\u001b[0;34m[\u001b[0m\u001b[0;34m'Death_registration_year'\u001b[0m\u001b[0;34m]\u001b[0m\u001b[0;34m\u001b[0m\u001b[0;34m\u001b[0m\u001b[0m\n\u001b[0m\u001b[1;32m      4\u001b[0m       \u001b[0;34m.\u001b[0m\u001b[0mstr\u001b[0m\u001b[0;34m.\u001b[0m\u001b[0mreplace\u001b[0m\u001b[0;34m(\u001b[0m\u001b[0;34m'\\xa0'\u001b[0m\u001b[0;34m,\u001b[0m\u001b[0;34m' '\u001b[0m\u001b[0;34m,\u001b[0m \u001b[0mregex\u001b[0m\u001b[0;34m=\u001b[0m\u001b[0;32mFalse\u001b[0m\u001b[0;34m)\u001b[0m\u001b[0;34m\u001b[0m\u001b[0;34m\u001b[0m\u001b[0m\n\u001b[1;32m      5\u001b[0m       \u001b[0;34m.\u001b[0m\u001b[0mstr\u001b[0m\u001b[0;34m.\u001b[0m\u001b[0mstrip\u001b[0m\u001b[0;34m(\u001b[0m\u001b[0;34m)\u001b[0m\u001b[0;34m\u001b[0m\u001b[0;34m\u001b[0m\u001b[0m\n",
            "\u001b[0;32m/usr/local/lib/python3.11/dist-packages/pandas/core/frame.py\u001b[0m in \u001b[0;36m__getitem__\u001b[0;34m(self, key)\u001b[0m\n\u001b[1;32m   4100\u001b[0m             \u001b[0;32mif\u001b[0m \u001b[0mself\u001b[0m\u001b[0;34m.\u001b[0m\u001b[0mcolumns\u001b[0m\u001b[0;34m.\u001b[0m\u001b[0mnlevels\u001b[0m \u001b[0;34m>\u001b[0m \u001b[0;36m1\u001b[0m\u001b[0;34m:\u001b[0m\u001b[0;34m\u001b[0m\u001b[0;34m\u001b[0m\u001b[0m\n\u001b[1;32m   4101\u001b[0m                 \u001b[0;32mreturn\u001b[0m \u001b[0mself\u001b[0m\u001b[0;34m.\u001b[0m\u001b[0m_getitem_multilevel\u001b[0m\u001b[0;34m(\u001b[0m\u001b[0mkey\u001b[0m\u001b[0;34m)\u001b[0m\u001b[0;34m\u001b[0m\u001b[0;34m\u001b[0m\u001b[0m\n\u001b[0;32m-> 4102\u001b[0;31m             \u001b[0mindexer\u001b[0m \u001b[0;34m=\u001b[0m \u001b[0mself\u001b[0m\u001b[0;34m.\u001b[0m\u001b[0mcolumns\u001b[0m\u001b[0;34m.\u001b[0m\u001b[0mget_loc\u001b[0m\u001b[0;34m(\u001b[0m\u001b[0mkey\u001b[0m\u001b[0;34m)\u001b[0m\u001b[0;34m\u001b[0m\u001b[0;34m\u001b[0m\u001b[0m\n\u001b[0m\u001b[1;32m   4103\u001b[0m             \u001b[0;32mif\u001b[0m \u001b[0mis_integer\u001b[0m\u001b[0;34m(\u001b[0m\u001b[0mindexer\u001b[0m\u001b[0;34m)\u001b[0m\u001b[0;34m:\u001b[0m\u001b[0;34m\u001b[0m\u001b[0;34m\u001b[0m\u001b[0m\n\u001b[1;32m   4104\u001b[0m                 \u001b[0mindexer\u001b[0m \u001b[0;34m=\u001b[0m \u001b[0;34m[\u001b[0m\u001b[0mindexer\u001b[0m\u001b[0;34m]\u001b[0m\u001b[0;34m\u001b[0m\u001b[0;34m\u001b[0m\u001b[0m\n",
            "\u001b[0;32m/usr/local/lib/python3.11/dist-packages/pandas/core/indexes/base.py\u001b[0m in \u001b[0;36mget_loc\u001b[0;34m(self, key)\u001b[0m\n\u001b[1;32m   3810\u001b[0m             ):\n\u001b[1;32m   3811\u001b[0m                 \u001b[0;32mraise\u001b[0m \u001b[0mInvalidIndexError\u001b[0m\u001b[0;34m(\u001b[0m\u001b[0mkey\u001b[0m\u001b[0;34m)\u001b[0m\u001b[0;34m\u001b[0m\u001b[0;34m\u001b[0m\u001b[0m\n\u001b[0;32m-> 3812\u001b[0;31m             \u001b[0;32mraise\u001b[0m \u001b[0mKeyError\u001b[0m\u001b[0;34m(\u001b[0m\u001b[0mkey\u001b[0m\u001b[0;34m)\u001b[0m \u001b[0;32mfrom\u001b[0m \u001b[0merr\u001b[0m\u001b[0;34m\u001b[0m\u001b[0;34m\u001b[0m\u001b[0m\n\u001b[0m\u001b[1;32m   3813\u001b[0m         \u001b[0;32mexcept\u001b[0m \u001b[0mTypeError\u001b[0m\u001b[0;34m:\u001b[0m\u001b[0;34m\u001b[0m\u001b[0;34m\u001b[0m\u001b[0m\n\u001b[1;32m   3814\u001b[0m             \u001b[0;31m# If we have a listlike key, _check_indexing_error will raise\u001b[0m\u001b[0;34m\u001b[0m\u001b[0;34m\u001b[0m\u001b[0m\n",
            "\u001b[0;31mKeyError\u001b[0m: 'Death_registration_year'"
          ]
        }
      ]
    },
    {
      "cell_type": "code",
      "source": [
        "import re\n",
        "import pandas as pd\n",
        "\n",
        "# Pick a source text column that exists\n",
        "src_col = 'Death_registration_year_x' # Use the correct column name from the merged dataframe\n",
        "\n",
        "# 1) Split \"2001 to 2003\" into numeric start/end\n",
        "split = (merged[src_col].astype(str)\n",
        "         .str.replace('\\xa0', ' ', regex=False)\n",
        "         .str.replace(r'\\s*(?:to|–|—|-)\\s*', ' to ', regex=True)\n",
        "         .str.strip()\n",
        "         .str.split(' to ', expand=True))\n",
        "\n",
        "merged[['start_year','end_year']] = split\n",
        "merged[['start_year','end_year']] = merged[['start_year','end_year']].astype(int)\n",
        "\n",
        "print(\"After adding start/end:\\n\", merged[['IMD_version_y','start_year','end_year']].head(), '\\n') # Updated column name\n",
        "\n",
        "# 2) Expand each range to one row per single year (useful for plots)\n",
        "rows = []\n",
        "for _, r in merged.iterrows():\n",
        "    for y in range(r.start_year, r.end_year + 1):\n",
        "        rows.append({'year': y, 'IMD_version_final': r['IMD_version_y']}) # Updated column name and renamed to IMD_version_final in the new df\n",
        "\n",
        "expanded = pd.DataFrame(rows)\n",
        "print(\"Expanded preview:\\n\", expanded.head(12))\n",
        "print(\"\\nExpanded shape:\", expanded.shape)"
      ],
      "metadata": {
        "colab": {
          "base_uri": "https://localhost:8080/",
          "height": 356
        },
        "id": "QSmV84W3-C0v",
        "outputId": "01718029-6190-4c98-831d-550bcfb527c4"
      },
      "execution_count": null,
      "outputs": [
        {
          "output_type": "error",
          "ename": "KeyError",
          "evalue": "\"['IMD_version_final'] not in index\"",
          "traceback": [
            "\u001b[0;31m---------------------------------------------------------------------------\u001b[0m",
            "\u001b[0;31mKeyError\u001b[0m                                  Traceback (most recent call last)",
            "\u001b[0;32m/tmp/ipython-input-1253000604.py\u001b[0m in \u001b[0;36m<cell line: 0>\u001b[0;34m()\u001b[0m\n\u001b[1;32m     15\u001b[0m \u001b[0mmerged\u001b[0m\u001b[0;34m[\u001b[0m\u001b[0;34m[\u001b[0m\u001b[0;34m'start_year'\u001b[0m\u001b[0;34m,\u001b[0m\u001b[0;34m'end_year'\u001b[0m\u001b[0;34m]\u001b[0m\u001b[0;34m]\u001b[0m \u001b[0;34m=\u001b[0m \u001b[0mmerged\u001b[0m\u001b[0;34m[\u001b[0m\u001b[0;34m[\u001b[0m\u001b[0;34m'start_year'\u001b[0m\u001b[0;34m,\u001b[0m\u001b[0;34m'end_year'\u001b[0m\u001b[0;34m]\u001b[0m\u001b[0;34m]\u001b[0m\u001b[0;34m.\u001b[0m\u001b[0mastype\u001b[0m\u001b[0;34m(\u001b[0m\u001b[0mint\u001b[0m\u001b[0;34m)\u001b[0m\u001b[0;34m\u001b[0m\u001b[0;34m\u001b[0m\u001b[0m\n\u001b[1;32m     16\u001b[0m \u001b[0;34m\u001b[0m\u001b[0m\n\u001b[0;32m---> 17\u001b[0;31m \u001b[0mprint\u001b[0m\u001b[0;34m(\u001b[0m\u001b[0;34m\"After adding start/end:\\n\"\u001b[0m\u001b[0;34m,\u001b[0m \u001b[0mmerged\u001b[0m\u001b[0;34m[\u001b[0m\u001b[0;34m[\u001b[0m\u001b[0;34m'IMD_version_final'\u001b[0m\u001b[0;34m,\u001b[0m\u001b[0;34m'start_year'\u001b[0m\u001b[0;34m,\u001b[0m\u001b[0;34m'end_year'\u001b[0m\u001b[0;34m]\u001b[0m\u001b[0;34m]\u001b[0m\u001b[0;34m.\u001b[0m\u001b[0mhead\u001b[0m\u001b[0;34m(\u001b[0m\u001b[0;34m)\u001b[0m\u001b[0;34m,\u001b[0m \u001b[0;34m'\\n'\u001b[0m\u001b[0;34m)\u001b[0m\u001b[0;34m\u001b[0m\u001b[0;34m\u001b[0m\u001b[0m\n\u001b[0m\u001b[1;32m     18\u001b[0m \u001b[0;34m\u001b[0m\u001b[0m\n\u001b[1;32m     19\u001b[0m \u001b[0;31m# 2) Expand each range to one row per single year (useful for plots)\u001b[0m\u001b[0;34m\u001b[0m\u001b[0;34m\u001b[0m\u001b[0m\n",
            "\u001b[0;32m/usr/local/lib/python3.11/dist-packages/pandas/core/frame.py\u001b[0m in \u001b[0;36m__getitem__\u001b[0;34m(self, key)\u001b[0m\n\u001b[1;32m   4106\u001b[0m             \u001b[0;32mif\u001b[0m \u001b[0mis_iterator\u001b[0m\u001b[0;34m(\u001b[0m\u001b[0mkey\u001b[0m\u001b[0;34m)\u001b[0m\u001b[0;34m:\u001b[0m\u001b[0;34m\u001b[0m\u001b[0;34m\u001b[0m\u001b[0m\n\u001b[1;32m   4107\u001b[0m                 \u001b[0mkey\u001b[0m \u001b[0;34m=\u001b[0m \u001b[0mlist\u001b[0m\u001b[0;34m(\u001b[0m\u001b[0mkey\u001b[0m\u001b[0;34m)\u001b[0m\u001b[0;34m\u001b[0m\u001b[0;34m\u001b[0m\u001b[0m\n\u001b[0;32m-> 4108\u001b[0;31m             \u001b[0mindexer\u001b[0m \u001b[0;34m=\u001b[0m \u001b[0mself\u001b[0m\u001b[0;34m.\u001b[0m\u001b[0mcolumns\u001b[0m\u001b[0;34m.\u001b[0m\u001b[0m_get_indexer_strict\u001b[0m\u001b[0;34m(\u001b[0m\u001b[0mkey\u001b[0m\u001b[0;34m,\u001b[0m \u001b[0;34m\"columns\"\u001b[0m\u001b[0;34m)\u001b[0m\u001b[0;34m[\u001b[0m\u001b[0;36m1\u001b[0m\u001b[0;34m]\u001b[0m\u001b[0;34m\u001b[0m\u001b[0;34m\u001b[0m\u001b[0m\n\u001b[0m\u001b[1;32m   4109\u001b[0m \u001b[0;34m\u001b[0m\u001b[0m\n\u001b[1;32m   4110\u001b[0m         \u001b[0;31m# take() does not accept boolean indexers\u001b[0m\u001b[0;34m\u001b[0m\u001b[0;34m\u001b[0m\u001b[0m\n",
            "\u001b[0;32m/usr/local/lib/python3.11/dist-packages/pandas/core/indexes/base.py\u001b[0m in \u001b[0;36m_get_indexer_strict\u001b[0;34m(self, key, axis_name)\u001b[0m\n\u001b[1;32m   6198\u001b[0m             \u001b[0mkeyarr\u001b[0m\u001b[0;34m,\u001b[0m \u001b[0mindexer\u001b[0m\u001b[0;34m,\u001b[0m \u001b[0mnew_indexer\u001b[0m \u001b[0;34m=\u001b[0m \u001b[0mself\u001b[0m\u001b[0;34m.\u001b[0m\u001b[0m_reindex_non_unique\u001b[0m\u001b[0;34m(\u001b[0m\u001b[0mkeyarr\u001b[0m\u001b[0;34m)\u001b[0m\u001b[0;34m\u001b[0m\u001b[0;34m\u001b[0m\u001b[0m\n\u001b[1;32m   6199\u001b[0m \u001b[0;34m\u001b[0m\u001b[0m\n\u001b[0;32m-> 6200\u001b[0;31m         \u001b[0mself\u001b[0m\u001b[0;34m.\u001b[0m\u001b[0m_raise_if_missing\u001b[0m\u001b[0;34m(\u001b[0m\u001b[0mkeyarr\u001b[0m\u001b[0;34m,\u001b[0m \u001b[0mindexer\u001b[0m\u001b[0;34m,\u001b[0m \u001b[0maxis_name\u001b[0m\u001b[0;34m)\u001b[0m\u001b[0;34m\u001b[0m\u001b[0;34m\u001b[0m\u001b[0m\n\u001b[0m\u001b[1;32m   6201\u001b[0m \u001b[0;34m\u001b[0m\u001b[0m\n\u001b[1;32m   6202\u001b[0m         \u001b[0mkeyarr\u001b[0m \u001b[0;34m=\u001b[0m \u001b[0mself\u001b[0m\u001b[0;34m.\u001b[0m\u001b[0mtake\u001b[0m\u001b[0;34m(\u001b[0m\u001b[0mindexer\u001b[0m\u001b[0;34m)\u001b[0m\u001b[0;34m\u001b[0m\u001b[0;34m\u001b[0m\u001b[0m\n",
            "\u001b[0;32m/usr/local/lib/python3.11/dist-packages/pandas/core/indexes/base.py\u001b[0m in \u001b[0;36m_raise_if_missing\u001b[0;34m(self, key, indexer, axis_name)\u001b[0m\n\u001b[1;32m   6250\u001b[0m \u001b[0;34m\u001b[0m\u001b[0m\n\u001b[1;32m   6251\u001b[0m             \u001b[0mnot_found\u001b[0m \u001b[0;34m=\u001b[0m \u001b[0mlist\u001b[0m\u001b[0;34m(\u001b[0m\u001b[0mensure_index\u001b[0m\u001b[0;34m(\u001b[0m\u001b[0mkey\u001b[0m\u001b[0;34m)\u001b[0m\u001b[0;34m[\u001b[0m\u001b[0mmissing_mask\u001b[0m\u001b[0;34m.\u001b[0m\u001b[0mnonzero\u001b[0m\u001b[0;34m(\u001b[0m\u001b[0;34m)\u001b[0m\u001b[0;34m[\u001b[0m\u001b[0;36m0\u001b[0m\u001b[0;34m]\u001b[0m\u001b[0;34m]\u001b[0m\u001b[0;34m.\u001b[0m\u001b[0munique\u001b[0m\u001b[0;34m(\u001b[0m\u001b[0;34m)\u001b[0m\u001b[0;34m)\u001b[0m\u001b[0;34m\u001b[0m\u001b[0;34m\u001b[0m\u001b[0m\n\u001b[0;32m-> 6252\u001b[0;31m             \u001b[0;32mraise\u001b[0m \u001b[0mKeyError\u001b[0m\u001b[0;34m(\u001b[0m\u001b[0;34mf\"{not_found} not in index\"\u001b[0m\u001b[0;34m)\u001b[0m\u001b[0;34m\u001b[0m\u001b[0;34m\u001b[0m\u001b[0m\n\u001b[0m\u001b[1;32m   6253\u001b[0m \u001b[0;34m\u001b[0m\u001b[0m\n\u001b[1;32m   6254\u001b[0m     \u001b[0;34m@\u001b[0m\u001b[0moverload\u001b[0m\u001b[0;34m\u001b[0m\u001b[0;34m\u001b[0m\u001b[0m\n",
            "\u001b[0;31mKeyError\u001b[0m: \"['IMD_version_final'] not in index\""
          ]
        }
      ]
    },
    {
      "cell_type": "code",
      "source": [
        "import re\n",
        "import pandas as pd\n",
        "\n",
        "# --- 0) Inspect columns so we know what we have\n",
        "print(\"Merged columns:\", merged.columns.tolist())\n",
        "\n",
        "# --- 1) Ensure we have an IMD_version_final column\n",
        "if \"IMD_version_final\" not in merged.columns:\n",
        "    # Common possibilities after different merges\n",
        "    cand_pairs = [\n",
        "        (\"IMD_version_lookup\", \"IMD_version\"),   # prefer lookup, else deaths\n",
        "        (\"IMD_version_y\",      \"IMD_version_x\"), # pandas _y/_x pattern\n",
        "    ]\n",
        "    made = False\n",
        "    for pref, fallback in cand_pairs:\n",
        "        if pref in merged.columns or fallback in merged.columns:\n",
        "            merged[\"IMD_version_final\"] = merged.get(pref, pd.Series([None]*len(merged))).fillna(\n",
        "                merged.get(fallback, pd.Series([None]*len(merged)))\n",
        "            )\n",
        "            made = True\n",
        "            break\n",
        "\n",
        "    # If still not made, try to sniff any IMD-version-like column and use the first one\n",
        "    if not made:\n",
        "        imd_like = [c for c in merged.columns if re.sub(r\"\\s+\", \"_\", c.lower()).startswith(\"imd_version\")]\n",
        "        if imd_like:\n",
        "            merged[\"IMD_version_final\"] = merged[imd_like[0]]\n",
        "            made = True\n",
        "\n",
        "    if not made:\n",
        "        raise ValueError(\n",
        "            \"Couldn't find any IMD version columns to create IMD_version_final.\\n\"\n",
        "            f\"Available columns: {merged.columns.tolist()}\"\n",
        "        )\n",
        "\n",
        "print(\"✅ Using IMD_version_final from:\",\n",
        "      [c for c in [\"IMD_version_final\",\"IMD_version_lookup\",\"IMD_version\",\"IMD_version_y\",\"IMD_version_x\"]\n",
        "       if c in merged.columns])\n",
        "\n",
        "# --- 2) Pick a year text column that actually exists\n",
        "year_text_col = None\n",
        "for c in [\"year_norm\", \"Death_registration_year\"]:\n",
        "    if c in merged.columns:\n",
        "        year_text_col = c\n",
        "        break\n",
        "if year_text_col is None:\n",
        "    raise ValueError(\"No year text column found. Expected one of: year_norm, Death_registration_year\")\n",
        "\n",
        "print(f\"✅ Using year text column: {year_text_col}\")\n",
        "\n",
        "# --- 3) Extract numeric start/end years robustly (handles '2001 to 2003', '2001–2003', '2001-2003', etc.)\n",
        "txt = (merged[year_text_col].astype(str)\n",
        "       .str.replace(\"\\xa0\", \" \", regex=False)\n",
        "       .str.strip())\n",
        "\n",
        "# Try first: split on any 'to' or dash into two four-digit numbers\n",
        "yr = txt.str.extract(r'(?P<start>\\d{4}).*?(?P<end>\\d{4})')\n",
        "\n",
        "# If any row doesn't parse (NaN), try a fallback: a single 4-digit (use it for both start & end)\n",
        "mask_bad = yr[\"start\"].isna() | yr[\"end\"].isna()\n",
        "if mask_bad.any():\n",
        "    single = txt.str.extract(r'(?P<single>\\d{4})')\n",
        "    yr.loc[mask_bad, \"start\"] = single.loc[mask_bad, \"single\"]\n",
        "    yr.loc[mask_bad, \"end\"]   = single.loc[mask_bad, \"single\"]\n",
        "\n",
        "# Ensure integer dtype\n",
        "merged[\"start_year\"] = yr[\"start\"].astype(int)\n",
        "merged[\"end_year\"]   = yr[\"end\"].astype(int)\n",
        "\n",
        "print(\"\\nAfter adding start/end:\")\n",
        "print(merged[[year_text_col, \"IMD_version_final\", \"start_year\", \"end_year\"]].head())\n",
        "\n",
        "# --- 4) Expand each range to one row per single year\n",
        "rows = []\n",
        "for _, r in merged.iterrows():\n",
        "    for y in range(r.start_year, r.end_year + 1):\n",
        "        rows.append({\"year\": y, \"IMD_version_final\": r[\"IMD_version_final\"]})\n",
        "\n",
        "expanded = pd.DataFrame(rows)\n",
        "print(\"\\nExpanded preview:\")\n",
        "print(expanded.head(12))\n",
        "print(\"Expanded shape:\", expanded.shape)\n"
      ],
      "metadata": {
        "id": "N7ebYUDw_zyh",
        "outputId": "fdf237bc-402c-446f-a9cf-8d1d085e0435",
        "colab": {
          "base_uri": "https://localhost:8080/"
        }
      },
      "execution_count": null,
      "outputs": [
        {
          "output_type": "stream",
          "name": "stdout",
          "text": [
            "Merged columns: ['Death_registration_year_x', 'IMD_version_x', 'year_norm', 'Death_registration_year_y', 'IMD_version_y', 'start_year', 'end_year']\n",
            "✅ Using IMD_version_final from: ['IMD_version_final', 'IMD_version_y', 'IMD_version_x']\n",
            "✅ Using year text column: year_norm\n",
            "\n",
            "After adding start/end:\n",
            "      year_norm  IMD_version_final  start_year  end_year\n",
            "0  2001 to 2003             2004.0        2001      2003\n",
            "1  2004 to 2006             2007.0        2004      2006\n",
            "2  2007 to 2010             2010.0        2007      2010\n",
            "3  2011 to 2015             2015.0        2011      2015\n",
            "4  2016 to 2020             2019.0        2016      2020\n",
            "\n",
            "Expanded preview:\n",
            "    year  IMD_version_final\n",
            "0   2001             2004.0\n",
            "1   2002             2004.0\n",
            "2   2003             2004.0\n",
            "3   2004             2007.0\n",
            "4   2005             2007.0\n",
            "5   2006             2007.0\n",
            "6   2007             2010.0\n",
            "7   2008             2010.0\n",
            "8   2009             2010.0\n",
            "9   2010             2010.0\n",
            "10  2011             2015.0\n",
            "11  2012             2015.0\n",
            "Expanded shape: (20, 2)\n"
          ]
        }
      ]
    },
    {
      "cell_type": "code",
      "source": [
        "# Save\n",
        "merged.to_csv(\"IMD_year_ranges_clean.csv\", index=False)\n",
        "expanded.to_csv(\"IMD_year_expanded_clean.csv\", index=False)\n",
        "print(\"\\nSaved:\\n  IMD_year_ranges_clean.csv\\n  IMD_year_expanded_clean.csv\")\n",
        "\n",
        "# Quick check plot (optional)\n",
        "import matplotlib.pyplot as plt\n",
        "plt.figure(figsize=(9,4))\n",
        "(expanded.groupby(\"year\")[\"IMD_version_final\"]\n",
        "         .first()\n",
        "         .reset_index()\n",
        "         .assign(dummy=1)\n",
        "         .pivot(index=\"year\", columns=\"IMD_version_final\", values=\"dummy\")\n",
        "         .plot(kind=\"area\", stacked=True, figsize=(10,4), legend=True))\n",
        "plt.title(\"IMD version by year\")\n",
        "plt.xlabel(\"Year\")\n",
        "plt.ylabel(\"Presence\")\n",
        "plt.tight_layout()\n",
        "plt.show()\n"
      ],
      "metadata": {
        "id": "scT1b12W_6Aa",
        "outputId": "2efb0f54-8a6f-485f-96a4-9d78d2da8638",
        "colab": {
          "base_uri": "https://localhost:8080/",
          "height": 494
        }
      },
      "execution_count": null,
      "outputs": [
        {
          "output_type": "stream",
          "name": "stdout",
          "text": [
            "\n",
            "Saved:\n",
            "  IMD_year_ranges_clean.csv\n",
            "  IMD_year_expanded_clean.csv\n"
          ]
        },
        {
          "output_type": "display_data",
          "data": {
            "text/plain": [
              "<Figure size 900x400 with 0 Axes>"
            ]
          },
          "metadata": {}
        },
        {
          "output_type": "display_data",
          "data": {
            "text/plain": [
              "<Figure size 1000x400 with 1 Axes>"
            ],
            "image/png": "[encoded data removed]"
          },
          "metadata": {}
        }
      ]
    },
    {
      "cell_type": "code",
      "source": [
        "import pandas as pd\n",
        "import matplotlib.pyplot as plt\n",
        "\n",
        "# Load the expanded file\n",
        "exp = pd.read_csv(\"IMD_year_expanded_clean.csv\")\n",
        "print(\"Expanded columns:\", exp.columns.tolist())\n",
        "\n",
        "# Be robust to case: make sure the column is called 'year'\n",
        "if \"Year\" in exp.columns and \"year\" not in exp.columns:\n",
        "    exp = exp.rename(columns={\"Year\": \"year\"})\n",
        "\n",
        "imd_col = \"IMD_version_final\" if \"IMD_version_final\" in exp.columns else \"IMD_version\"\n",
        "\n",
        "plt.figure(figsize=(10,4))\n",
        "\n",
        "# draw rectangular blocks (one color per IMD version)\n",
        "for v, g in exp.groupby(imd_col):\n",
        "    # sort by year so the step is clean\n",
        "    g = g.sort_values(\"year\")\n",
        "    plt.fill_between(g[\"year\"], 0, 1, step=\"mid\", alpha=0.7, label=int(v) if pd.notna(v) else \"NA\")\n",
        "\n",
        "plt.xlabel(\"Year\")\n",
        "plt.ylabel(\"Presence\")\n",
        "plt.title(\"IMD version by year\")\n",
        "plt.legend(title=imd_col)\n",
        "plt.tight_layout()\n",
        "plt.show()\n"
      ],
      "metadata": {
        "id": "qc6PPPSvAmji",
        "outputId": "28e7f718-f5fd-4a1c-8bcf-cea297c907f4",
        "colab": {
          "base_uri": "https://localhost:8080/",
          "height": 424
        }
      },
      "execution_count": null,
      "outputs": [
        {
          "output_type": "stream",
          "name": "stdout",
          "text": [
            "Expanded columns: ['year', 'IMD_version_final']\n"
          ]
        },
        {
          "output_type": "display_data",
          "data": {
            "text/plain": [
              "<Figure size 1000x400 with 1 Axes>"
            ],
            "image/png": "[encoded data removed]"
          },
          "metadata": {}
        }
      ]
    },
    {
      "cell_type": "code",
      "source": [
        "import pandas as pd\n",
        "import matplotlib.pyplot as plt\n",
        "\n",
        "rng = pd.read_csv(\"IMD_year_ranges_clean.csv\")\n",
        "print(\"Ranges columns:\", rng.columns.tolist())\n",
        "\n",
        "# pick the final IMD version column\n",
        "imd_col = \"IMD_version_final\" if \"IMD_version_final\" in rng.columns else \"IMD_version\"\n",
        "\n",
        "plt.figure(figsize=(10,3))\n",
        "# one bar per row (range)\n",
        "for _, r in rng.iterrows():\n",
        "    width = int(r[\"end_year\"]) - int(r[\"start_year\"]) + 1\n",
        "    plt.barh(y=str(int(r[imd_col])) if pd.notna(r[imd_col]) else \"NA\",\n",
        "             width=width, left=int(r[\"start_year\"]), height=0.6)\n",
        "\n",
        "plt.xlabel(\"Year\")\n",
        "plt.ylabel(\"IMD version\")\n",
        "plt.title(\"IMD version coverage by year range\")\n",
        "plt.tight_layout()\n",
        "plt.show()\n"
      ],
      "metadata": {
        "id": "RpPSoQU2AsJh",
        "outputId": "d3244cae-ad7b-4dc9-c286-61a942406292",
        "colab": {
          "base_uri": "https://localhost:8080/",
          "height": 324
        }
      },
      "execution_count": null,
      "outputs": [
        {
          "output_type": "stream",
          "name": "stdout",
          "text": [
            "Ranges columns: ['Death_registration_year_x', 'IMD_version_x', 'year_norm', 'Death_registration_year_y', 'IMD_version_y', 'start_year', 'end_year', 'IMD_version_final']\n"
          ]
        },
        {
          "output_type": "display_data",
          "data": {
            "text/plain": [
              "<Figure size 1000x300 with 1 Axes>"
            ],
            "image/png": "[encoded data removed]"
          },
          "metadata": {}
        }
      ]
    },
    {
      "cell_type": "code",
      "source": [
        "# --- Start a local Spark in Colab (counts as using lake/cluster tooling) ---\n",
        "!pip -q install pyspark==3.5.1\n",
        "\n",
        "from pyspark.sql import SparkSession, functions as F\n",
        "spark = SparkSession.builder.appName(\"IMD-Death-ETL\").getOrCreate()\n",
        "\n",
        "# Load the ranges file and the expanded file with Spark\n",
        "df_ranges   = spark.read.option(\"header\", True).csv(\"IMD_year_ranges_clean.csv\")\n",
        "df_expanded = spark.read.option(\"header\", True).csv(\"IMD_year_expanded_clean.csv\")\n",
        "\n",
        "# Quick transformations with Spark (examples you can show in demo)\n",
        "df_expanded = (df_expanded\n",
        "               .withColumn(\"year\", F.col(\"year\").cast(\"int\"))\n",
        "               .withColumn(\"IMD_version_final\", F.col(\"IMD_version_final\").cast(\"int\")))\n",
        "\n",
        "# Aggregate: how many years each IMD version is active (sanity check)\n",
        "agg_years = (df_expanded.groupBy(\"IMD_version_final\")\n",
        "             .agg(F.countDistinct(\"year\").alias(\"active_years\"))\n",
        "             .orderBy(\"IMD_version_final\"))\n",
        "agg_years.show()\n",
        "\n",
        "# Save a Spark output (so you can show read→transform→write in the demo)\n",
        "(agg_years.coalesce(1)\n",
        " .write.mode(\"overwrite\")\n",
        " .option(\"header\", True).csv(\"spark_outputs/imd_years_active\"))\n"
      ],
      "metadata": {
        "id": "UMKg0MIgBqRq",
        "outputId": "5e7b4ce3-c9b8-4d33-ccb2-b30e7fc9e4f8",
        "colab": {
          "base_uri": "https://localhost:8080/"
        }
      },
      "execution_count": null,
      "outputs": [
        {
          "output_type": "stream",
          "name": "stdout",
          "text": [
            "+-----------------+------------+\n",
            "|IMD_version_final|active_years|\n",
            "+-----------------+------------+\n",
            "|             2004|           3|\n",
            "|             2007|           3|\n",
            "|             2010|           4|\n",
            "|             2015|           5|\n",
            "|             2019|           5|\n",
            "+-----------------+------------+\n",
            "\n"
          ]
        }
      ]
    }
  ]
}